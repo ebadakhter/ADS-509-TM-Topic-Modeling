{
  "cells": [
    {
      "cell_type": "markdown",
      "id": "bce2bb89",
      "metadata": {
        "id": "bce2bb89"
      },
      "source": [
        "# ADS 509 Assignment 5.1: Topic Modeling\n",
        "\n",
        "This notebook holds Assignment 5.1 for Module 5 in ADS 509, Applied Text Mining. Work through this notebook, writing code and answering questions where required.\n",
        "\n",
        "In this assignment you will work with a categorical corpus that accompanies `nltk`. You will build the three types of topic models described in Chapter 8 of _Blueprints for Text Analytics using Python_: NMF, LSA, and LDA. You will compare these models to the true categories.\n"
      ]
    },
    {
      "cell_type": "markdown",
      "id": "d87e2c06",
      "metadata": {
        "id": "d87e2c06"
      },
      "source": [
        "## General Assignment Instructions\n",
        "\n",
        "These instructions are included in every assignment, to remind you of the coding standards for the class. Feel free to delete this cell after reading it.\n",
        "\n",
        "One sign of mature code is conforming to a style guide. We recommend the [Google Python Style Guide](https://google.github.io/styleguide/pyguide.html). If you use a different style guide, please include a cell with a link.\n",
        "\n",
        "Your code should be relatively easy-to-read, sensibly commented, and clean. Writing code is a messy process, so please be sure to edit your final submission. Remove any cells that are not needed or parts of cells that contain unnecessary code. Remove inessential `import` statements and make sure that all such statements are moved into the designated cell.\n",
        "\n",
        "Make use of non-code cells for written commentary. These cells should be grammatical and clearly written. In some of these cells you will have questions to answer. The questions will be marked by a \"Q:\" and will have a corresponding \"A:\" spot for you. *Make sure to answer every question marked with a `Q:` for full credit.*\n"
      ]
    },
    {
      "cell_type": "code",
      "execution_count": 1,
      "id": "a85bce08",
      "metadata": {
        "id": "a85bce08"
      },
      "outputs": [],
      "source": [
        "# These libraries may be useful to you\n",
        "#You need to restart the Kernel after installation.\n",
        "#!pip install pyLDAvis==3.4.1 --user\n",
        "#!pip install spacy\n",
        "#!pip install en_core_web_sm-3.1.0-py3-none-any.whl\n",
        "#!pip3 install https://github.com/explosion/spacy-models/releases/download/en_core_web_sm-2.2.0/en_core_web_sm-2.2.0.tar.gz\n",
        "#!python3 -m spacy download en_core_web_sm\n",
        "#!pip3 install https://github.com/explosion/spacy-models/releases/download/en_core_web_sm-2.2.0/en_core_web_sm-2.2.0.tar.gz\n"
      ]
    },
    {
      "cell_type": "code",
      "execution_count": 2,
      "id": "2cea135a",
      "metadata": {
        "colab": {
          "base_uri": "https://localhost:8080/",
          "height": 0
        },
        "id": "2cea135a",
        "outputId": "aa27d0b6-c350-4fd0-bcd2-cefa8c6a4a8f"
      },
      "outputs": [
        {
          "output_type": "stream",
          "name": "stderr",
          "text": [
            "[nltk_data] Downloading package brown to /root/nltk_data...\n",
            "[nltk_data]   Package brown is already up-to-date!\n"
          ]
        }
      ],
      "source": [
        "\n",
        "# You also need a Python version => 3.9.0\n",
        "import nltk\n",
        "nltk.download('brown')\n",
        "from nltk.corpus import brown\n",
        "\n",
        "import numpy as np\n",
        "import pandas as pd\n",
        "from tqdm.auto import tqdm\n",
        "\n",
        "import pyLDAvis\n",
        "import pyLDAvis.lda_model\n",
        "import pyLDAvis.gensim_models\n",
        "\n",
        "import spacy\n",
        "from sklearn.feature_extraction.text import TfidfVectorizer, CountVectorizer\n",
        "from sklearn.decomposition import NMF, TruncatedSVD, LatentDirichletAllocation\n",
        "\n",
        "from spacy.lang.en.stop_words import STOP_WORDS as stopwords\n",
        "import en_core_web_sm\n",
        "\n",
        "from collections import Counter, defaultdict\n",
        "\n",
        "nlp = spacy.load(\"en_core_web_sm\")\n",
        "#nlp = en_core_web_sm.load()"
      ]
    },
    {
      "cell_type": "code",
      "execution_count": 3,
      "id": "a218df60",
      "metadata": {
        "colab": {
          "base_uri": "https://localhost:8080/",
          "height": 0
        },
        "id": "a218df60",
        "outputId": "c2fe131e-a924-4a5f-89cd-4ca2eaa9ddc1"
      },
      "outputs": [
        {
          "output_type": "stream",
          "name": "stderr",
          "text": [
            "/usr/local/lib/python3.10/dist-packages/ipykernel/ipkernel.py:283: DeprecationWarning: `should_run_async` will not call `transform_cell` automatically in the future. Please pass the result to `transformed_cell` argument and any exception that happen during thetransform in `preprocessing_exc_tuple` in IPython 7.17 and above.\n",
            "  and should_run_async(code)\n"
          ]
        }
      ],
      "source": [
        "# add any additional libaries you need here\n",
        "\n",
        "from nltk.tokenize import word_tokenize"
      ]
    },
    {
      "cell_type": "code",
      "execution_count": 4,
      "id": "494de237",
      "metadata": {
        "colab": {
          "base_uri": "https://localhost:8080/",
          "height": 0
        },
        "id": "494de237",
        "outputId": "1e0df949-fd0c-4689-c2cd-566701c031b8"
      },
      "outputs": [
        {
          "output_type": "stream",
          "name": "stderr",
          "text": [
            "/usr/local/lib/python3.10/dist-packages/ipykernel/ipkernel.py:283: DeprecationWarning: `should_run_async` will not call `transform_cell` automatically in the future. Please pass the result to `transformed_cell` argument and any exception that happen during thetransform in `preprocessing_exc_tuple` in IPython 7.17 and above.\n",
            "  and should_run_async(code)\n"
          ]
        }
      ],
      "source": [
        "# This function comes from the BTAP repo.\n",
        "\n",
        "def display_topics(model, features, no_top_words=5):\n",
        "    for topic, words in enumerate(model.components_):\n",
        "        total = words.sum()\n",
        "        largest = words.argsort()[::-1] # invert sort order\n",
        "        print(\"\\nTopic %02d\" % topic)\n",
        "        for i in range(0, no_top_words):\n",
        "            print(\"  %s (%2.2f)\" % (features[largest[i]], abs(words[largest[i]]*100.0/total)))"
      ]
    },
    {
      "cell_type": "markdown",
      "id": "a30a901c",
      "metadata": {
        "id": "a30a901c"
      },
      "source": [
        "## Getting to Know the Brown Corpus\n",
        "\n",
        "Let's spend a bit of time getting to know what's in the Brown corpus, our NLTK example of an \"overlapping\" corpus."
      ]
    },
    {
      "cell_type": "code",
      "execution_count": 5,
      "id": "457c59ed",
      "metadata": {
        "colab": {
          "base_uri": "https://localhost:8080/",
          "height": 0
        },
        "id": "457c59ed",
        "outputId": "c2909cc0-6353-4f88-b9d3-d9cccbe49274"
      },
      "outputs": [
        {
          "output_type": "stream",
          "name": "stdout",
          "text": [
            "For adventure we have 29 articles.\n",
            "For belles_lettres we have 75 articles.\n",
            "For editorial we have 27 articles.\n",
            "For fiction we have 29 articles.\n",
            "For government we have 30 articles.\n",
            "For hobbies we have 36 articles.\n",
            "For humor we have 9 articles.\n",
            "For learned we have 80 articles.\n",
            "For lore we have 48 articles.\n",
            "For mystery we have 24 articles.\n",
            "For news we have 44 articles.\n",
            "For religion we have 17 articles.\n",
            "For reviews we have 17 articles.\n",
            "For romance we have 29 articles.\n",
            "For science_fiction we have 6 articles.\n"
          ]
        },
        {
          "output_type": "stream",
          "name": "stderr",
          "text": [
            "/usr/local/lib/python3.10/dist-packages/ipykernel/ipkernel.py:283: DeprecationWarning: `should_run_async` will not call `transform_cell` automatically in the future. Please pass the result to `transformed_cell` argument and any exception that happen during thetransform in `preprocessing_exc_tuple` in IPython 7.17 and above.\n",
            "  and should_run_async(code)\n"
          ]
        }
      ],
      "source": [
        "# categories of articles in Brown corpus\n",
        "for category in brown.categories() :\n",
        "    print(f\"For {category} we have {len(brown.fileids(categories=category))} articles.\")"
      ]
    },
    {
      "cell_type": "markdown",
      "id": "23fb133c",
      "metadata": {
        "id": "23fb133c"
      },
      "source": [
        "Let's create a dataframe of the articles in of hobbies, editorial, government, news, and romance."
      ]
    },
    {
      "cell_type": "code",
      "execution_count": 6,
      "id": "18f50b9d",
      "metadata": {
        "colab": {
          "base_uri": "https://localhost:8080/",
          "height": 0
        },
        "id": "18f50b9d",
        "outputId": "a846aaca-7e82-4c81-c5fa-3ed4e43dbf18"
      },
      "outputs": [
        {
          "output_type": "stream",
          "name": "stderr",
          "text": [
            "/usr/local/lib/python3.10/dist-packages/ipykernel/ipkernel.py:283: DeprecationWarning: `should_run_async` will not call `transform_cell` automatically in the future. Please pass the result to `transformed_cell` argument and any exception that happen during thetransform in `preprocessing_exc_tuple` in IPython 7.17 and above.\n",
            "  and should_run_async(code)\n"
          ]
        },
        {
          "output_type": "execute_result",
          "data": {
            "text/plain": [
              "(166, 3)"
            ]
          },
          "metadata": {},
          "execution_count": 6
        }
      ],
      "source": [
        "categories = ['editorial','government','news','romance','hobbies']\n",
        "\n",
        "category_list = []\n",
        "file_ids = []\n",
        "texts = []\n",
        "\n",
        "for category in categories :\n",
        "    for file_id in brown.fileids(categories=category) :\n",
        "\n",
        "        # build some lists for a dataframe\n",
        "        category_list.append(category)\n",
        "        file_ids.append(file_id)\n",
        "\n",
        "        text = brown.words(fileids=file_id)\n",
        "        texts.append(\" \".join(text))\n",
        "\n",
        "\n",
        "\n",
        "df = pd.DataFrame()\n",
        "df['category'] = category_list\n",
        "df['id'] = file_ids\n",
        "df['text'] = texts\n",
        "\n",
        "df.shape"
      ]
    },
    {
      "cell_type": "code",
      "execution_count": 7,
      "id": "586f47de",
      "metadata": {
        "colab": {
          "base_uri": "https://localhost:8080/",
          "height": 0
        },
        "id": "586f47de",
        "outputId": "8d7ad9e1-50ef-4346-9c93-f93a0a28e517"
      },
      "outputs": [
        {
          "output_type": "stream",
          "name": "stderr",
          "text": [
            "/usr/local/lib/python3.10/dist-packages/ipykernel/ipkernel.py:283: DeprecationWarning: `should_run_async` will not call `transform_cell` automatically in the future. Please pass the result to `transformed_cell` argument and any exception that happen during thetransform in `preprocessing_exc_tuple` in IPython 7.17 and above.\n",
            "  and should_run_async(code)\n"
          ]
        }
      ],
      "source": [
        "# Let's add some helpful columns on the df\n",
        "df['char_len'] = df['text'].apply(len)\n",
        "df['word_len'] = df['text'].apply(lambda x: len(x.split()))\n"
      ]
    },
    {
      "cell_type": "code",
      "execution_count": 8,
      "id": "2128fd2d",
      "metadata": {
        "colab": {
          "base_uri": "https://localhost:8080/",
          "height": 687
        },
        "id": "2128fd2d",
        "outputId": "2973f3cc-6c10-473c-b9f5-fd4e53fa32b1"
      },
      "outputs": [
        {
          "output_type": "stream",
          "name": "stderr",
          "text": [
            "/usr/local/lib/python3.10/dist-packages/ipykernel/ipkernel.py:283: DeprecationWarning: `should_run_async` will not call `transform_cell` automatically in the future. Please pass the result to `transformed_cell` argument and any exception that happen during thetransform in `preprocessing_exc_tuple` in IPython 7.17 and above.\n",
            "  and should_run_async(code)\n"
          ]
        },
        {
          "output_type": "execute_result",
          "data": {
            "text/plain": [
              "<Axes: xlabel='category'>"
            ]
          },
          "metadata": {},
          "execution_count": 8
        },
        {
          "output_type": "display_data",
          "data": {
            "text/plain": [
              "<Figure size 1000x600 with 1 Axes>"
            ],
            "image/png": "[encoded data removed]"
          },
          "metadata": {}
        }
      ],
      "source": [
        "%matplotlib inline\n",
        "df.groupby('category').agg({'word_len': 'mean'}).plot.bar(figsize=(10,6))"
      ]
    },
    {
      "cell_type": "markdown",
      "id": "554ffeb5",
      "metadata": {
        "id": "554ffeb5"
      },
      "source": [
        "Now do our TF-IDF and Count vectorizations."
      ]
    },
    {
      "cell_type": "code",
      "execution_count": 9,
      "id": "21a7d247",
      "metadata": {
        "colab": {
          "base_uri": "https://localhost:8080/",
          "height": 516
        },
        "id": "21a7d247",
        "outputId": "36d09608-0d52-4c3d-9247-601f60d1310e"
      },
      "outputs": [
        {
          "output_type": "stream",
          "name": "stderr",
          "text": [
            "/usr/local/lib/python3.10/dist-packages/ipykernel/ipkernel.py:283: DeprecationWarning: `should_run_async` will not call `transform_cell` automatically in the future. Please pass the result to `transformed_cell` argument and any exception that happen during thetransform in `preprocessing_exc_tuple` in IPython 7.17 and above.\n",
            "  and should_run_async(code)\n",
            "/usr/local/lib/python3.10/dist-packages/sklearn/feature_extraction/text.py:409: UserWarning: Your stop_words may be inconsistent with your preprocessing. Tokenizing the stop words generated tokens ['ll', 've'] not in stop_words.\n",
            "  warnings.warn(\n"
          ]
        },
        {
          "output_type": "execute_result",
          "data": {
            "text/plain": [
              "     0     1     2     3     4     5     6     7     8     9     ...  4931  \\\n",
              "0       0     3     0     0     0     0     0     1     0     1  ...     0   \n",
              "1       0     3     0     0     0     1     0     1     0     0  ...     0   \n",
              "2       0     0     0     2     0     0     0     0     0     0  ...     0   \n",
              "3       0     1     0     0     0     2     0     0     0     1  ...     0   \n",
              "4       0     1     0     1     1     0     0     0     0     0  ...     0   \n",
              "..    ...   ...   ...   ...   ...   ...   ...   ...   ...   ...  ...   ...   \n",
              "161     0     0     0     0     0     0     0     0     0     1  ...     0   \n",
              "162     0     2     0     0     0     0     0     0     1     2  ...     0   \n",
              "163     0     0     4     1     0     0     1     0     0     0  ...     0   \n",
              "164     0     8     1     1     0     1     1     0     0     1  ...     0   \n",
              "165    11     0     2     0     0     2     0     0     1     0  ...     0   \n",
              "\n",
              "     4932  4933  4934  4935  4936  4937  4938  4939  4940  \n",
              "0       0     0     1     0     0     0     0     0     0  \n",
              "1       0     0     3     0     0     0     0     2     0  \n",
              "2       0     0     0     2     0     0     0     0     0  \n",
              "3       0     1     0     0     0     0     0     0     0  \n",
              "4       0     0     0     0     0     0     0     0     0  \n",
              "..    ...   ...   ...   ...   ...   ...   ...   ...   ...  \n",
              "161     0     0     0     0     0     0     0     0     0  \n",
              "162     0     0     3     0     0     0     0     0     0  \n",
              "163     0     0     0     0     0     0     0     0     0  \n",
              "164     0     0     0     0     0     0     0     0     0  \n",
              "165     0     0     0     0     0     0     0     0     0  \n",
              "\n",
              "[166 rows x 4941 columns]"
            ],
            "text/html": [
              "\n",
              "  <div id=\"df-6b39b6b7-d0ff-4172-870e-1f0107b154b0\" class=\"colab-df-container\">\n",
              "    <div>\n",
              "<style scoped>\n",
              "    .dataframe tbody tr th:only-of-type {\n",
              "        vertical-align: middle;\n",
              "    }\n",
              "\n",
              "    .dataframe tbody tr th {\n",
              "        vertical-align: top;\n",
              "    }\n",
              "\n",
              "    .dataframe thead th {\n",
              "        text-align: right;\n",
              "    }\n",
              "</style>\n",
              "<table border=\"1\" class=\"dataframe\">\n",
              "  <thead>\n",
              "    <tr style=\"text-align: right;\">\n",
              "      <th></th>\n",
              "      <th>0</th>\n",
              "      <th>1</th>\n",
              "      <th>2</th>\n",
              "      <th>3</th>\n",
              "      <th>4</th>\n",
              "      <th>5</th>\n",
              "      <th>6</th>\n",
              "      <th>7</th>\n",
              "      <th>8</th>\n",
              "      <th>9</th>\n",
              "      <th>...</th>\n",
              "      <th>4931</th>\n",
              "      <th>4932</th>\n",
              "      <th>4933</th>\n",
              "      <th>4934</th>\n",
              "      <th>4935</th>\n",
              "      <th>4936</th>\n",
              "      <th>4937</th>\n",
              "      <th>4938</th>\n",
              "      <th>4939</th>\n",
              "      <th>4940</th>\n",
              "    </tr>\n",
              "  </thead>\n",
              "  <tbody>\n",
              "    <tr>\n",
              "      <th>0</th>\n",
              "      <td>0</td>\n",
              "      <td>3</td>\n",
              "      <td>0</td>\n",
              "      <td>0</td>\n",
              "      <td>0</td>\n",
              "      <td>0</td>\n",
              "      <td>0</td>\n",
              "      <td>1</td>\n",
              "      <td>0</td>\n",
              "      <td>1</td>\n",
              "      <td>...</td>\n",
              "      <td>0</td>\n",
              "      <td>0</td>\n",
              "      <td>0</td>\n",
              "      <td>1</td>\n",
              "      <td>0</td>\n",
              "      <td>0</td>\n",
              "      <td>0</td>\n",
              "      <td>0</td>\n",
              "      <td>0</td>\n",
              "      <td>0</td>\n",
              "    </tr>\n",
              "    <tr>\n",
              "      <th>1</th>\n",
              "      <td>0</td>\n",
              "      <td>3</td>\n",
              "      <td>0</td>\n",
              "      <td>0</td>\n",
              "      <td>0</td>\n",
              "      <td>1</td>\n",
              "      <td>0</td>\n",
              "      <td>1</td>\n",
              "      <td>0</td>\n",
              "      <td>0</td>\n",
              "      <td>...</td>\n",
              "      <td>0</td>\n",
              "      <td>0</td>\n",
              "      <td>0</td>\n",
              "      <td>3</td>\n",
              "      <td>0</td>\n",
              "      <td>0</td>\n",
              "      <td>0</td>\n",
              "      <td>0</td>\n",
              "      <td>2</td>\n",
              "      <td>0</td>\n",
              "    </tr>\n",
              "    <tr>\n",
              "      <th>2</th>\n",
              "      <td>0</td>\n",
              "      <td>0</td>\n",
              "      <td>0</td>\n",
              "      <td>2</td>\n",
              "      <td>0</td>\n",
              "      <td>0</td>\n",
              "      <td>0</td>\n",
              "      <td>0</td>\n",
              "      <td>0</td>\n",
              "      <td>0</td>\n",
              "      <td>...</td>\n",
              "      <td>0</td>\n",
              "      <td>0</td>\n",
              "      <td>0</td>\n",
              "      <td>0</td>\n",
              "      <td>2</td>\n",
              "      <td>0</td>\n",
              "      <td>0</td>\n",
              "      <td>0</td>\n",
              "      <td>0</td>\n",
              "      <td>0</td>\n",
              "    </tr>\n",
              "    <tr>\n",
              "      <th>3</th>\n",
              "      <td>0</td>\n",
              "      <td>1</td>\n",
              "      <td>0</td>\n",
              "      <td>0</td>\n",
              "      <td>0</td>\n",
              "      <td>2</td>\n",
              "      <td>0</td>\n",
              "      <td>0</td>\n",
              "      <td>0</td>\n",
              "      <td>1</td>\n",
              "      <td>...</td>\n",
              "      <td>0</td>\n",
              "      <td>0</td>\n",
              "      <td>1</td>\n",
              "      <td>0</td>\n",
              "      <td>0</td>\n",
              "      <td>0</td>\n",
              "      <td>0</td>\n",
              "      <td>0</td>\n",
              "      <td>0</td>\n",
              "      <td>0</td>\n",
              "    </tr>\n",
              "    <tr>\n",
              "      <th>4</th>\n",
              "      <td>0</td>\n",
              "      <td>1</td>\n",
              "      <td>0</td>\n",
              "      <td>1</td>\n",
              "      <td>1</td>\n",
              "      <td>0</td>\n",
              "      <td>0</td>\n",
              "      <td>0</td>\n",
              "      <td>0</td>\n",
              "      <td>0</td>\n",
              "      <td>...</td>\n",
              "      <td>0</td>\n",
              "      <td>0</td>\n",
              "      <td>0</td>\n",
              "      <td>0</td>\n",
              "      <td>0</td>\n",
              "      <td>0</td>\n",
              "      <td>0</td>\n",
              "      <td>0</td>\n",
              "      <td>0</td>\n",
              "      <td>0</td>\n",
              "    </tr>\n",
              "    <tr>\n",
              "      <th>...</th>\n",
              "      <td>...</td>\n",
              "      <td>...</td>\n",
              "      <td>...</td>\n",
              "      <td>...</td>\n",
              "      <td>...</td>\n",
              "      <td>...</td>\n",
              "      <td>...</td>\n",
              "      <td>...</td>\n",
              "      <td>...</td>\n",
              "      <td>...</td>\n",
              "      <td>...</td>\n",
              "      <td>...</td>\n",
              "      <td>...</td>\n",
              "      <td>...</td>\n",
              "      <td>...</td>\n",
              "      <td>...</td>\n",
              "      <td>...</td>\n",
              "      <td>...</td>\n",
              "      <td>...</td>\n",
              "      <td>...</td>\n",
              "      <td>...</td>\n",
              "    </tr>\n",
              "    <tr>\n",
              "      <th>161</th>\n",
              "      <td>0</td>\n",
              "      <td>0</td>\n",
              "      <td>0</td>\n",
              "      <td>0</td>\n",
              "      <td>0</td>\n",
              "      <td>0</td>\n",
              "      <td>0</td>\n",
              "      <td>0</td>\n",
              "      <td>0</td>\n",
              "      <td>1</td>\n",
              "      <td>...</td>\n",
              "      <td>0</td>\n",
              "      <td>0</td>\n",
              "      <td>0</td>\n",
              "      <td>0</td>\n",
              "      <td>0</td>\n",
              "      <td>0</td>\n",
              "      <td>0</td>\n",
              "      <td>0</td>\n",
              "      <td>0</td>\n",
              "      <td>0</td>\n",
              "    </tr>\n",
              "    <tr>\n",
              "      <th>162</th>\n",
              "      <td>0</td>\n",
              "      <td>2</td>\n",
              "      <td>0</td>\n",
              "      <td>0</td>\n",
              "      <td>0</td>\n",
              "      <td>0</td>\n",
              "      <td>0</td>\n",
              "      <td>0</td>\n",
              "      <td>1</td>\n",
              "      <td>2</td>\n",
              "      <td>...</td>\n",
              "      <td>0</td>\n",
              "      <td>0</td>\n",
              "      <td>0</td>\n",
              "      <td>3</td>\n",
              "      <td>0</td>\n",
              "      <td>0</td>\n",
              "      <td>0</td>\n",
              "      <td>0</td>\n",
              "      <td>0</td>\n",
              "      <td>0</td>\n",
              "    </tr>\n",
              "    <tr>\n",
              "      <th>163</th>\n",
              "      <td>0</td>\n",
              "      <td>0</td>\n",
              "      <td>4</td>\n",
              "      <td>1</td>\n",
              "      <td>0</td>\n",
              "      <td>0</td>\n",
              "      <td>1</td>\n",
              "      <td>0</td>\n",
              "      <td>0</td>\n",
              "      <td>0</td>\n",
              "      <td>...</td>\n",
              "      <td>0</td>\n",
              "      <td>0</td>\n",
              "      <td>0</td>\n",
              "      <td>0</td>\n",
              "      <td>0</td>\n",
              "      <td>0</td>\n",
              "      <td>0</td>\n",
              "      <td>0</td>\n",
              "      <td>0</td>\n",
              "      <td>0</td>\n",
              "    </tr>\n",
              "    <tr>\n",
              "      <th>164</th>\n",
              "      <td>0</td>\n",
              "      <td>8</td>\n",
              "      <td>1</td>\n",
              "      <td>1</td>\n",
              "      <td>0</td>\n",
              "      <td>1</td>\n",
              "      <td>1</td>\n",
              "      <td>0</td>\n",
              "      <td>0</td>\n",
              "      <td>1</td>\n",
              "      <td>...</td>\n",
              "      <td>0</td>\n",
              "      <td>0</td>\n",
              "      <td>0</td>\n",
              "      <td>0</td>\n",
              "      <td>0</td>\n",
              "      <td>0</td>\n",
              "      <td>0</td>\n",
              "      <td>0</td>\n",
              "      <td>0</td>\n",
              "      <td>0</td>\n",
              "    </tr>\n",
              "    <tr>\n",
              "      <th>165</th>\n",
              "      <td>11</td>\n",
              "      <td>0</td>\n",
              "      <td>2</td>\n",
              "      <td>0</td>\n",
              "      <td>0</td>\n",
              "      <td>2</td>\n",
              "      <td>0</td>\n",
              "      <td>0</td>\n",
              "      <td>1</td>\n",
              "      <td>0</td>\n",
              "      <td>...</td>\n",
              "      <td>0</td>\n",
              "      <td>0</td>\n",
              "      <td>0</td>\n",
              "      <td>0</td>\n",
              "      <td>0</td>\n",
              "      <td>0</td>\n",
              "      <td>0</td>\n",
              "      <td>0</td>\n",
              "      <td>0</td>\n",
              "      <td>0</td>\n",
              "    </tr>\n",
              "  </tbody>\n",
              "</table>\n",
              "<p>166 rows × 4941 columns</p>\n",
              "</div>\n",
              "    <div class=\"colab-df-buttons\">\n",
              "\n",
              "  <div class=\"colab-df-container\">\n",
              "    <button class=\"colab-df-convert\" onclick=\"convertToInteractive('df-6b39b6b7-d0ff-4172-870e-1f0107b154b0')\"\n",
              "            title=\"Convert this dataframe to an interactive table.\"\n",
              "            style=\"display:none;\">\n",
              "\n",
              "  <svg xmlns=\"http://www.w3.org/2000/svg\" height=\"24px\" viewBox=\"0 -960 960 960\">\n",
              "    <path d=\"M120-120v-720h720v720H120Zm60-500h600v-160H180v160Zm220 220h160v-160H400v160Zm0 220h160v-160H400v160ZM180-400h160v-160H180v160Zm440 0h160v-160H620v160ZM180-180h160v-160H180v160Zm440 0h160v-160H620v160Z\"/>\n",
              "  </svg>\n",
              "    </button>\n",
              "\n",
              "  <style>\n",
              "    .colab-df-container {\n",
              "      display:flex;\n",
              "      gap: 12px;\n",
              "    }\n",
              "\n",
              "    .colab-df-convert {\n",
              "      background-color: #E8F0FE;\n",
              "      border: none;\n",
              "      border-radius: 50%;\n",
              "      cursor: pointer;\n",
              "      display: none;\n",
              "      fill: #1967D2;\n",
              "      height: 32px;\n",
              "      padding: 0 0 0 0;\n",
              "      width: 32px;\n",
              "    }\n",
              "\n",
              "    .colab-df-convert:hover {\n",
              "      background-color: #E2EBFA;\n",
              "      box-shadow: 0px 1px 2px rgba(60, 64, 67, 0.3), 0px 1px 3px 1px rgba(60, 64, 67, 0.15);\n",
              "      fill: #174EA6;\n",
              "    }\n",
              "\n",
              "    .colab-df-buttons div {\n",
              "      margin-bottom: 4px;\n",
              "    }\n",
              "\n",
              "    [theme=dark] .colab-df-convert {\n",
              "      background-color: #3B4455;\n",
              "      fill: #D2E3FC;\n",
              "    }\n",
              "\n",
              "    [theme=dark] .colab-df-convert:hover {\n",
              "      background-color: #434B5C;\n",
              "      box-shadow: 0px 1px 3px 1px rgba(0, 0, 0, 0.15);\n",
              "      filter: drop-shadow(0px 1px 2px rgba(0, 0, 0, 0.3));\n",
              "      fill: #FFFFFF;\n",
              "    }\n",
              "  </style>\n",
              "\n",
              "    <script>\n",
              "      const buttonEl =\n",
              "        document.querySelector('#df-6b39b6b7-d0ff-4172-870e-1f0107b154b0 button.colab-df-convert');\n",
              "      buttonEl.style.display =\n",
              "        google.colab.kernel.accessAllowed ? 'block' : 'none';\n",
              "\n",
              "      async function convertToInteractive(key) {\n",
              "        const element = document.querySelector('#df-6b39b6b7-d0ff-4172-870e-1f0107b154b0');\n",
              "        const dataTable =\n",
              "          await google.colab.kernel.invokeFunction('convertToInteractive',\n",
              "                                                    [key], {});\n",
              "        if (!dataTable) return;\n",
              "\n",
              "        const docLinkHtml = 'Like what you see? Visit the ' +\n",
              "          '<a target=\"_blank\" href=https://colab.research.google.com/notebooks/data_table.ipynb>data table notebook</a>'\n",
              "          + ' to learn more about interactive tables.';\n",
              "        element.innerHTML = '';\n",
              "        dataTable['output_type'] = 'display_data';\n",
              "        await google.colab.output.renderOutput(dataTable, element);\n",
              "        const docLink = document.createElement('div');\n",
              "        docLink.innerHTML = docLinkHtml;\n",
              "        element.appendChild(docLink);\n",
              "      }\n",
              "    </script>\n",
              "  </div>\n",
              "\n",
              "\n",
              "<div id=\"df-8a6fca86-0c65-44fc-9101-496a0a957afe\">\n",
              "  <button class=\"colab-df-quickchart\" onclick=\"quickchart('df-8a6fca86-0c65-44fc-9101-496a0a957afe')\"\n",
              "            title=\"Suggest charts\"\n",
              "            style=\"display:none;\">\n",
              "\n",
              "<svg xmlns=\"http://www.w3.org/2000/svg\" height=\"24px\"viewBox=\"0 0 24 24\"\n",
              "     width=\"24px\">\n",
              "    <g>\n",
              "        <path d=\"M19 3H5c-1.1 0-2 .9-2 2v14c0 1.1.9 2 2 2h14c1.1 0 2-.9 2-2V5c0-1.1-.9-2-2-2zM9 17H7v-7h2v7zm4 0h-2V7h2v10zm4 0h-2v-4h2v4z\"/>\n",
              "    </g>\n",
              "</svg>\n",
              "  </button>\n",
              "\n",
              "<style>\n",
              "  .colab-df-quickchart {\n",
              "      --bg-color: #E8F0FE;\n",
              "      --fill-color: #1967D2;\n",
              "      --hover-bg-color: #E2EBFA;\n",
              "      --hover-fill-color: #174EA6;\n",
              "      --disabled-fill-color: #AAA;\n",
              "      --disabled-bg-color: #DDD;\n",
              "  }\n",
              "\n",
              "  [theme=dark] .colab-df-quickchart {\n",
              "      --bg-color: #3B4455;\n",
              "      --fill-color: #D2E3FC;\n",
              "      --hover-bg-color: #434B5C;\n",
              "      --hover-fill-color: #FFFFFF;\n",
              "      --disabled-bg-color: #3B4455;\n",
              "      --disabled-fill-color: #666;\n",
              "  }\n",
              "\n",
              "  .colab-df-quickchart {\n",
              "    background-color: var(--bg-color);\n",
              "    border: none;\n",
              "    border-radius: 50%;\n",
              "    cursor: pointer;\n",
              "    display: none;\n",
              "    fill: var(--fill-color);\n",
              "    height: 32px;\n",
              "    padding: 0;\n",
              "    width: 32px;\n",
              "  }\n",
              "\n",
              "  .colab-df-quickchart:hover {\n",
              "    background-color: var(--hover-bg-color);\n",
              "    box-shadow: 0 1px 2px rgba(60, 64, 67, 0.3), 0 1px 3px 1px rgba(60, 64, 67, 0.15);\n",
              "    fill: var(--button-hover-fill-color);\n",
              "  }\n",
              "\n",
              "  .colab-df-quickchart-complete:disabled,\n",
              "  .colab-df-quickchart-complete:disabled:hover {\n",
              "    background-color: var(--disabled-bg-color);\n",
              "    fill: var(--disabled-fill-color);\n",
              "    box-shadow: none;\n",
              "  }\n",
              "\n",
              "  .colab-df-spinner {\n",
              "    border: 2px solid var(--fill-color);\n",
              "    border-color: transparent;\n",
              "    border-bottom-color: var(--fill-color);\n",
              "    animation:\n",
              "      spin 1s steps(1) infinite;\n",
              "  }\n",
              "\n",
              "  @keyframes spin {\n",
              "    0% {\n",
              "      border-color: transparent;\n",
              "      border-bottom-color: var(--fill-color);\n",
              "      border-left-color: var(--fill-color);\n",
              "    }\n",
              "    20% {\n",
              "      border-color: transparent;\n",
              "      border-left-color: var(--fill-color);\n",
              "      border-top-color: var(--fill-color);\n",
              "    }\n",
              "    30% {\n",
              "      border-color: transparent;\n",
              "      border-left-color: var(--fill-color);\n",
              "      border-top-color: var(--fill-color);\n",
              "      border-right-color: var(--fill-color);\n",
              "    }\n",
              "    40% {\n",
              "      border-color: transparent;\n",
              "      border-right-color: var(--fill-color);\n",
              "      border-top-color: var(--fill-color);\n",
              "    }\n",
              "    60% {\n",
              "      border-color: transparent;\n",
              "      border-right-color: var(--fill-color);\n",
              "    }\n",
              "    80% {\n",
              "      border-color: transparent;\n",
              "      border-right-color: var(--fill-color);\n",
              "      border-bottom-color: var(--fill-color);\n",
              "    }\n",
              "    90% {\n",
              "      border-color: transparent;\n",
              "      border-bottom-color: var(--fill-color);\n",
              "    }\n",
              "  }\n",
              "</style>\n",
              "\n",
              "  <script>\n",
              "    async function quickchart(key) {\n",
              "      const quickchartButtonEl =\n",
              "        document.querySelector('#' + key + ' button');\n",
              "      quickchartButtonEl.disabled = true;  // To prevent multiple clicks.\n",
              "      quickchartButtonEl.classList.add('colab-df-spinner');\n",
              "      try {\n",
              "        const charts = await google.colab.kernel.invokeFunction(\n",
              "            'suggestCharts', [key], {});\n",
              "      } catch (error) {\n",
              "        console.error('Error during call to suggestCharts:', error);\n",
              "      }\n",
              "      quickchartButtonEl.classList.remove('colab-df-spinner');\n",
              "      quickchartButtonEl.classList.add('colab-df-quickchart-complete');\n",
              "    }\n",
              "    (() => {\n",
              "      let quickchartButtonEl =\n",
              "        document.querySelector('#df-8a6fca86-0c65-44fc-9101-496a0a957afe button');\n",
              "      quickchartButtonEl.style.display =\n",
              "        google.colab.kernel.accessAllowed ? 'block' : 'none';\n",
              "    })();\n",
              "  </script>\n",
              "</div>\n",
              "    </div>\n",
              "  </div>\n"
            ]
          },
          "metadata": {},
          "execution_count": 9
        }
      ],
      "source": [
        "count_text_vectorizer = CountVectorizer(stop_words=list(stopwords), min_df=5, max_df=0.7)\n",
        "count_text_vectors = count_text_vectorizer.fit_transform(df[\"text\"])\n",
        "count_text_vectors.shape\n",
        "pd.DataFrame(count_text_vectors.todense())\n"
      ]
    },
    {
      "cell_type": "code",
      "execution_count": 10,
      "id": "875deba9",
      "metadata": {
        "colab": {
          "base_uri": "https://localhost:8080/",
          "height": 516
        },
        "id": "875deba9",
        "outputId": "2ebc3fcf-459b-40ed-fae7-56a78aafb5d3"
      },
      "outputs": [
        {
          "output_type": "stream",
          "name": "stderr",
          "text": [
            "/usr/local/lib/python3.10/dist-packages/ipykernel/ipkernel.py:283: DeprecationWarning: `should_run_async` will not call `transform_cell` automatically in the future. Please pass the result to `transformed_cell` argument and any exception that happen during thetransform in `preprocessing_exc_tuple` in IPython 7.17 and above.\n",
            "  and should_run_async(code)\n",
            "/usr/local/lib/python3.10/dist-packages/sklearn/feature_extraction/text.py:409: UserWarning: Your stop_words may be inconsistent with your preprocessing. Tokenizing the stop words generated tokens ['ll', 've'] not in stop_words.\n",
            "  warnings.warn(\n"
          ]
        },
        {
          "output_type": "execute_result",
          "data": {
            "text/plain": [
              "         0         1         2         3         4         5         6     \\\n",
              "0    0.000000  0.046852  0.000000  0.000000  0.000000  0.000000  0.000000   \n",
              "1    0.000000  0.040107  0.000000  0.000000  0.000000  0.015896  0.000000   \n",
              "2    0.000000  0.000000  0.000000  0.041794  0.000000  0.000000  0.000000   \n",
              "3    0.000000  0.016735  0.000000  0.000000  0.000000  0.039797  0.000000   \n",
              "4    0.000000  0.014687  0.000000  0.018843  0.019635  0.000000  0.000000   \n",
              "..        ...       ...       ...       ...       ...       ...       ...   \n",
              "161  0.000000  0.000000  0.000000  0.000000  0.000000  0.000000  0.000000   \n",
              "162  0.000000  0.027690  0.000000  0.000000  0.000000  0.000000  0.000000   \n",
              "163  0.000000  0.000000  0.037145  0.012368  0.000000  0.000000  0.022478   \n",
              "164  0.000000  0.083169  0.010015  0.013338  0.000000  0.012361  0.024242   \n",
              "165  0.288618  0.000000  0.021679  0.000000  0.000000  0.026758  0.000000   \n",
              "\n",
              "         7         8         9     ...  4931  4932      4933      4934  \\\n",
              "0    0.023450  0.000000  0.019456  ...   0.0   0.0  0.000000  0.016895   \n",
              "1    0.020074  0.000000  0.000000  ...   0.0   0.0  0.000000  0.043389   \n",
              "2    0.000000  0.000000  0.000000  ...   0.0   0.0  0.000000  0.000000   \n",
              "3    0.000000  0.000000  0.020849  ...   0.0   0.0  0.036429  0.000000   \n",
              "4    0.000000  0.000000  0.000000  ...   0.0   0.0  0.000000  0.000000   \n",
              "..        ...       ...       ...  ...   ...   ...       ...       ...   \n",
              "161  0.000000  0.000000  0.011308  ...   0.0   0.0  0.000000  0.000000   \n",
              "162  0.000000  0.018709  0.034496  ...   0.0   0.0  0.000000  0.044933   \n",
              "163  0.000000  0.000000  0.000000  ...   0.0   0.0  0.000000  0.000000   \n",
              "164  0.000000  0.000000  0.012951  ...   0.0   0.0  0.000000  0.000000   \n",
              "165  0.000000  0.015205  0.000000  ...   0.0   0.0  0.000000  0.000000   \n",
              "\n",
              "         4935  4936  4937  4938      4939  4940  \n",
              "0    0.000000   0.0   0.0   0.0  0.000000   0.0  \n",
              "1    0.000000   0.0   0.0   0.0  0.062348   0.0  \n",
              "2    0.034956   0.0   0.0   0.0  0.000000   0.0  \n",
              "3    0.000000   0.0   0.0   0.0  0.000000   0.0  \n",
              "4    0.000000   0.0   0.0   0.0  0.000000   0.0  \n",
              "..        ...   ...   ...   ...       ...   ...  \n",
              "161  0.000000   0.0   0.0   0.0  0.000000   0.0  \n",
              "162  0.000000   0.0   0.0   0.0  0.000000   0.0  \n",
              "163  0.000000   0.0   0.0   0.0  0.000000   0.0  \n",
              "164  0.000000   0.0   0.0   0.0  0.000000   0.0  \n",
              "165  0.000000   0.0   0.0   0.0  0.000000   0.0  \n",
              "\n",
              "[166 rows x 4941 columns]"
            ],
            "text/html": [
              "\n",
              "  <div id=\"df-13bbc860-d58e-4ac4-a0ba-b99b4937bee1\" class=\"colab-df-container\">\n",
              "    <div>\n",
              "<style scoped>\n",
              "    .dataframe tbody tr th:only-of-type {\n",
              "        vertical-align: middle;\n",
              "    }\n",
              "\n",
              "    .dataframe tbody tr th {\n",
              "        vertical-align: top;\n",
              "    }\n",
              "\n",
              "    .dataframe thead th {\n",
              "        text-align: right;\n",
              "    }\n",
              "</style>\n",
              "<table border=\"1\" class=\"dataframe\">\n",
              "  <thead>\n",
              "    <tr style=\"text-align: right;\">\n",
              "      <th></th>\n",
              "      <th>0</th>\n",
              "      <th>1</th>\n",
              "      <th>2</th>\n",
              "      <th>3</th>\n",
              "      <th>4</th>\n",
              "      <th>5</th>\n",
              "      <th>6</th>\n",
              "      <th>7</th>\n",
              "      <th>8</th>\n",
              "      <th>9</th>\n",
              "      <th>...</th>\n",
              "      <th>4931</th>\n",
              "      <th>4932</th>\n",
              "      <th>4933</th>\n",
              "      <th>4934</th>\n",
              "      <th>4935</th>\n",
              "      <th>4936</th>\n",
              "      <th>4937</th>\n",
              "      <th>4938</th>\n",
              "      <th>4939</th>\n",
              "      <th>4940</th>\n",
              "    </tr>\n",
              "  </thead>\n",
              "  <tbody>\n",
              "    <tr>\n",
              "      <th>0</th>\n",
              "      <td>0.000000</td>\n",
              "      <td>0.046852</td>\n",
              "      <td>0.000000</td>\n",
              "      <td>0.000000</td>\n",
              "      <td>0.000000</td>\n",
              "      <td>0.000000</td>\n",
              "      <td>0.000000</td>\n",
              "      <td>0.023450</td>\n",
              "      <td>0.000000</td>\n",
              "      <td>0.019456</td>\n",
              "      <td>...</td>\n",
              "      <td>0.0</td>\n",
              "      <td>0.0</td>\n",
              "      <td>0.000000</td>\n",
              "      <td>0.016895</td>\n",
              "      <td>0.000000</td>\n",
              "      <td>0.0</td>\n",
              "      <td>0.0</td>\n",
              "      <td>0.0</td>\n",
              "      <td>0.000000</td>\n",
              "      <td>0.0</td>\n",
              "    </tr>\n",
              "    <tr>\n",
              "      <th>1</th>\n",
              "      <td>0.000000</td>\n",
              "      <td>0.040107</td>\n",
              "      <td>0.000000</td>\n",
              "      <td>0.000000</td>\n",
              "      <td>0.000000</td>\n",
              "      <td>0.015896</td>\n",
              "      <td>0.000000</td>\n",
              "      <td>0.020074</td>\n",
              "      <td>0.000000</td>\n",
              "      <td>0.000000</td>\n",
              "      <td>...</td>\n",
              "      <td>0.0</td>\n",
              "      <td>0.0</td>\n",
              "      <td>0.000000</td>\n",
              "      <td>0.043389</td>\n",
              "      <td>0.000000</td>\n",
              "      <td>0.0</td>\n",
              "      <td>0.0</td>\n",
              "      <td>0.0</td>\n",
              "      <td>0.062348</td>\n",
              "      <td>0.0</td>\n",
              "    </tr>\n",
              "    <tr>\n",
              "      <th>2</th>\n",
              "      <td>0.000000</td>\n",
              "      <td>0.000000</td>\n",
              "      <td>0.000000</td>\n",
              "      <td>0.041794</td>\n",
              "      <td>0.000000</td>\n",
              "      <td>0.000000</td>\n",
              "      <td>0.000000</td>\n",
              "      <td>0.000000</td>\n",
              "      <td>0.000000</td>\n",
              "      <td>0.000000</td>\n",
              "      <td>...</td>\n",
              "      <td>0.0</td>\n",
              "      <td>0.0</td>\n",
              "      <td>0.000000</td>\n",
              "      <td>0.000000</td>\n",
              "      <td>0.034956</td>\n",
              "      <td>0.0</td>\n",
              "      <td>0.0</td>\n",
              "      <td>0.0</td>\n",
              "      <td>0.000000</td>\n",
              "      <td>0.0</td>\n",
              "    </tr>\n",
              "    <tr>\n",
              "      <th>3</th>\n",
              "      <td>0.000000</td>\n",
              "      <td>0.016735</td>\n",
              "      <td>0.000000</td>\n",
              "      <td>0.000000</td>\n",
              "      <td>0.000000</td>\n",
              "      <td>0.039797</td>\n",
              "      <td>0.000000</td>\n",
              "      <td>0.000000</td>\n",
              "      <td>0.000000</td>\n",
              "      <td>0.020849</td>\n",
              "      <td>...</td>\n",
              "      <td>0.0</td>\n",
              "      <td>0.0</td>\n",
              "      <td>0.036429</td>\n",
              "      <td>0.000000</td>\n",
              "      <td>0.000000</td>\n",
              "      <td>0.0</td>\n",
              "      <td>0.0</td>\n",
              "      <td>0.0</td>\n",
              "      <td>0.000000</td>\n",
              "      <td>0.0</td>\n",
              "    </tr>\n",
              "    <tr>\n",
              "      <th>4</th>\n",
              "      <td>0.000000</td>\n",
              "      <td>0.014687</td>\n",
              "      <td>0.000000</td>\n",
              "      <td>0.018843</td>\n",
              "      <td>0.019635</td>\n",
              "      <td>0.000000</td>\n",
              "      <td>0.000000</td>\n",
              "      <td>0.000000</td>\n",
              "      <td>0.000000</td>\n",
              "      <td>0.000000</td>\n",
              "      <td>...</td>\n",
              "      <td>0.0</td>\n",
              "      <td>0.0</td>\n",
              "      <td>0.000000</td>\n",
              "      <td>0.000000</td>\n",
              "      <td>0.000000</td>\n",
              "      <td>0.0</td>\n",
              "      <td>0.0</td>\n",
              "      <td>0.0</td>\n",
              "      <td>0.000000</td>\n",
              "      <td>0.0</td>\n",
              "    </tr>\n",
              "    <tr>\n",
              "      <th>...</th>\n",
              "      <td>...</td>\n",
              "      <td>...</td>\n",
              "      <td>...</td>\n",
              "      <td>...</td>\n",
              "      <td>...</td>\n",
              "      <td>...</td>\n",
              "      <td>...</td>\n",
              "      <td>...</td>\n",
              "      <td>...</td>\n",
              "      <td>...</td>\n",
              "      <td>...</td>\n",
              "      <td>...</td>\n",
              "      <td>...</td>\n",
              "      <td>...</td>\n",
              "      <td>...</td>\n",
              "      <td>...</td>\n",
              "      <td>...</td>\n",
              "      <td>...</td>\n",
              "      <td>...</td>\n",
              "      <td>...</td>\n",
              "      <td>...</td>\n",
              "    </tr>\n",
              "    <tr>\n",
              "      <th>161</th>\n",
              "      <td>0.000000</td>\n",
              "      <td>0.000000</td>\n",
              "      <td>0.000000</td>\n",
              "      <td>0.000000</td>\n",
              "      <td>0.000000</td>\n",
              "      <td>0.000000</td>\n",
              "      <td>0.000000</td>\n",
              "      <td>0.000000</td>\n",
              "      <td>0.000000</td>\n",
              "      <td>0.011308</td>\n",
              "      <td>...</td>\n",
              "      <td>0.0</td>\n",
              "      <td>0.0</td>\n",
              "      <td>0.000000</td>\n",
              "      <td>0.000000</td>\n",
              "      <td>0.000000</td>\n",
              "      <td>0.0</td>\n",
              "      <td>0.0</td>\n",
              "      <td>0.0</td>\n",
              "      <td>0.000000</td>\n",
              "      <td>0.0</td>\n",
              "    </tr>\n",
              "    <tr>\n",
              "      <th>162</th>\n",
              "      <td>0.000000</td>\n",
              "      <td>0.027690</td>\n",
              "      <td>0.000000</td>\n",
              "      <td>0.000000</td>\n",
              "      <td>0.000000</td>\n",
              "      <td>0.000000</td>\n",
              "      <td>0.000000</td>\n",
              "      <td>0.000000</td>\n",
              "      <td>0.018709</td>\n",
              "      <td>0.034496</td>\n",
              "      <td>...</td>\n",
              "      <td>0.0</td>\n",
              "      <td>0.0</td>\n",
              "      <td>0.000000</td>\n",
              "      <td>0.044933</td>\n",
              "      <td>0.000000</td>\n",
              "      <td>0.0</td>\n",
              "      <td>0.0</td>\n",
              "      <td>0.0</td>\n",
              "      <td>0.000000</td>\n",
              "      <td>0.0</td>\n",
              "    </tr>\n",
              "    <tr>\n",
              "      <th>163</th>\n",
              "      <td>0.000000</td>\n",
              "      <td>0.000000</td>\n",
              "      <td>0.037145</td>\n",
              "      <td>0.012368</td>\n",
              "      <td>0.000000</td>\n",
              "      <td>0.000000</td>\n",
              "      <td>0.022478</td>\n",
              "      <td>0.000000</td>\n",
              "      <td>0.000000</td>\n",
              "      <td>0.000000</td>\n",
              "      <td>...</td>\n",
              "      <td>0.0</td>\n",
              "      <td>0.0</td>\n",
              "      <td>0.000000</td>\n",
              "      <td>0.000000</td>\n",
              "      <td>0.000000</td>\n",
              "      <td>0.0</td>\n",
              "      <td>0.0</td>\n",
              "      <td>0.0</td>\n",
              "      <td>0.000000</td>\n",
              "      <td>0.0</td>\n",
              "    </tr>\n",
              "    <tr>\n",
              "      <th>164</th>\n",
              "      <td>0.000000</td>\n",
              "      <td>0.083169</td>\n",
              "      <td>0.010015</td>\n",
              "      <td>0.013338</td>\n",
              "      <td>0.000000</td>\n",
              "      <td>0.012361</td>\n",
              "      <td>0.024242</td>\n",
              "      <td>0.000000</td>\n",
              "      <td>0.000000</td>\n",
              "      <td>0.012951</td>\n",
              "      <td>...</td>\n",
              "      <td>0.0</td>\n",
              "      <td>0.0</td>\n",
              "      <td>0.000000</td>\n",
              "      <td>0.000000</td>\n",
              "      <td>0.000000</td>\n",
              "      <td>0.0</td>\n",
              "      <td>0.0</td>\n",
              "      <td>0.0</td>\n",
              "      <td>0.000000</td>\n",
              "      <td>0.0</td>\n",
              "    </tr>\n",
              "    <tr>\n",
              "      <th>165</th>\n",
              "      <td>0.288618</td>\n",
              "      <td>0.000000</td>\n",
              "      <td>0.021679</td>\n",
              "      <td>0.000000</td>\n",
              "      <td>0.000000</td>\n",
              "      <td>0.026758</td>\n",
              "      <td>0.000000</td>\n",
              "      <td>0.000000</td>\n",
              "      <td>0.015205</td>\n",
              "      <td>0.000000</td>\n",
              "      <td>...</td>\n",
              "      <td>0.0</td>\n",
              "      <td>0.0</td>\n",
              "      <td>0.000000</td>\n",
              "      <td>0.000000</td>\n",
              "      <td>0.000000</td>\n",
              "      <td>0.0</td>\n",
              "      <td>0.0</td>\n",
              "      <td>0.0</td>\n",
              "      <td>0.000000</td>\n",
              "      <td>0.0</td>\n",
              "    </tr>\n",
              "  </tbody>\n",
              "</table>\n",
              "<p>166 rows × 4941 columns</p>\n",
              "</div>\n",
              "    <div class=\"colab-df-buttons\">\n",
              "\n",
              "  <div class=\"colab-df-container\">\n",
              "    <button class=\"colab-df-convert\" onclick=\"convertToInteractive('df-13bbc860-d58e-4ac4-a0ba-b99b4937bee1')\"\n",
              "            title=\"Convert this dataframe to an interactive table.\"\n",
              "            style=\"display:none;\">\n",
              "\n",
              "  <svg xmlns=\"http://www.w3.org/2000/svg\" height=\"24px\" viewBox=\"0 -960 960 960\">\n",
              "    <path d=\"M120-120v-720h720v720H120Zm60-500h600v-160H180v160Zm220 220h160v-160H400v160Zm0 220h160v-160H400v160ZM180-400h160v-160H180v160Zm440 0h160v-160H620v160ZM180-180h160v-160H180v160Zm440 0h160v-160H620v160Z\"/>\n",
              "  </svg>\n",
              "    </button>\n",
              "\n",
              "  <style>\n",
              "    .colab-df-container {\n",
              "      display:flex;\n",
              "      gap: 12px;\n",
              "    }\n",
              "\n",
              "    .colab-df-convert {\n",
              "      background-color: #E8F0FE;\n",
              "      border: none;\n",
              "      border-radius: 50%;\n",
              "      cursor: pointer;\n",
              "      display: none;\n",
              "      fill: #1967D2;\n",
              "      height: 32px;\n",
              "      padding: 0 0 0 0;\n",
              "      width: 32px;\n",
              "    }\n",
              "\n",
              "    .colab-df-convert:hover {\n",
              "      background-color: #E2EBFA;\n",
              "      box-shadow: 0px 1px 2px rgba(60, 64, 67, 0.3), 0px 1px 3px 1px rgba(60, 64, 67, 0.15);\n",
              "      fill: #174EA6;\n",
              "    }\n",
              "\n",
              "    .colab-df-buttons div {\n",
              "      margin-bottom: 4px;\n",
              "    }\n",
              "\n",
              "    [theme=dark] .colab-df-convert {\n",
              "      background-color: #3B4455;\n",
              "      fill: #D2E3FC;\n",
              "    }\n",
              "\n",
              "    [theme=dark] .colab-df-convert:hover {\n",
              "      background-color: #434B5C;\n",
              "      box-shadow: 0px 1px 3px 1px rgba(0, 0, 0, 0.15);\n",
              "      filter: drop-shadow(0px 1px 2px rgba(0, 0, 0, 0.3));\n",
              "      fill: #FFFFFF;\n",
              "    }\n",
              "  </style>\n",
              "\n",
              "    <script>\n",
              "      const buttonEl =\n",
              "        document.querySelector('#df-13bbc860-d58e-4ac4-a0ba-b99b4937bee1 button.colab-df-convert');\n",
              "      buttonEl.style.display =\n",
              "        google.colab.kernel.accessAllowed ? 'block' : 'none';\n",
              "\n",
              "      async function convertToInteractive(key) {\n",
              "        const element = document.querySelector('#df-13bbc860-d58e-4ac4-a0ba-b99b4937bee1');\n",
              "        const dataTable =\n",
              "          await google.colab.kernel.invokeFunction('convertToInteractive',\n",
              "                                                    [key], {});\n",
              "        if (!dataTable) return;\n",
              "\n",
              "        const docLinkHtml = 'Like what you see? Visit the ' +\n",
              "          '<a target=\"_blank\" href=https://colab.research.google.com/notebooks/data_table.ipynb>data table notebook</a>'\n",
              "          + ' to learn more about interactive tables.';\n",
              "        element.innerHTML = '';\n",
              "        dataTable['output_type'] = 'display_data';\n",
              "        await google.colab.output.renderOutput(dataTable, element);\n",
              "        const docLink = document.createElement('div');\n",
              "        docLink.innerHTML = docLinkHtml;\n",
              "        element.appendChild(docLink);\n",
              "      }\n",
              "    </script>\n",
              "  </div>\n",
              "\n",
              "\n",
              "<div id=\"df-c66329cf-9c24-4987-812e-10279510ca8c\">\n",
              "  <button class=\"colab-df-quickchart\" onclick=\"quickchart('df-c66329cf-9c24-4987-812e-10279510ca8c')\"\n",
              "            title=\"Suggest charts\"\n",
              "            style=\"display:none;\">\n",
              "\n",
              "<svg xmlns=\"http://www.w3.org/2000/svg\" height=\"24px\"viewBox=\"0 0 24 24\"\n",
              "     width=\"24px\">\n",
              "    <g>\n",
              "        <path d=\"M19 3H5c-1.1 0-2 .9-2 2v14c0 1.1.9 2 2 2h14c1.1 0 2-.9 2-2V5c0-1.1-.9-2-2-2zM9 17H7v-7h2v7zm4 0h-2V7h2v10zm4 0h-2v-4h2v4z\"/>\n",
              "    </g>\n",
              "</svg>\n",
              "  </button>\n",
              "\n",
              "<style>\n",
              "  .colab-df-quickchart {\n",
              "      --bg-color: #E8F0FE;\n",
              "      --fill-color: #1967D2;\n",
              "      --hover-bg-color: #E2EBFA;\n",
              "      --hover-fill-color: #174EA6;\n",
              "      --disabled-fill-color: #AAA;\n",
              "      --disabled-bg-color: #DDD;\n",
              "  }\n",
              "\n",
              "  [theme=dark] .colab-df-quickchart {\n",
              "      --bg-color: #3B4455;\n",
              "      --fill-color: #D2E3FC;\n",
              "      --hover-bg-color: #434B5C;\n",
              "      --hover-fill-color: #FFFFFF;\n",
              "      --disabled-bg-color: #3B4455;\n",
              "      --disabled-fill-color: #666;\n",
              "  }\n",
              "\n",
              "  .colab-df-quickchart {\n",
              "    background-color: var(--bg-color);\n",
              "    border: none;\n",
              "    border-radius: 50%;\n",
              "    cursor: pointer;\n",
              "    display: none;\n",
              "    fill: var(--fill-color);\n",
              "    height: 32px;\n",
              "    padding: 0;\n",
              "    width: 32px;\n",
              "  }\n",
              "\n",
              "  .colab-df-quickchart:hover {\n",
              "    background-color: var(--hover-bg-color);\n",
              "    box-shadow: 0 1px 2px rgba(60, 64, 67, 0.3), 0 1px 3px 1px rgba(60, 64, 67, 0.15);\n",
              "    fill: var(--button-hover-fill-color);\n",
              "  }\n",
              "\n",
              "  .colab-df-quickchart-complete:disabled,\n",
              "  .colab-df-quickchart-complete:disabled:hover {\n",
              "    background-color: var(--disabled-bg-color);\n",
              "    fill: var(--disabled-fill-color);\n",
              "    box-shadow: none;\n",
              "  }\n",
              "\n",
              "  .colab-df-spinner {\n",
              "    border: 2px solid var(--fill-color);\n",
              "    border-color: transparent;\n",
              "    border-bottom-color: var(--fill-color);\n",
              "    animation:\n",
              "      spin 1s steps(1) infinite;\n",
              "  }\n",
              "\n",
              "  @keyframes spin {\n",
              "    0% {\n",
              "      border-color: transparent;\n",
              "      border-bottom-color: var(--fill-color);\n",
              "      border-left-color: var(--fill-color);\n",
              "    }\n",
              "    20% {\n",
              "      border-color: transparent;\n",
              "      border-left-color: var(--fill-color);\n",
              "      border-top-color: var(--fill-color);\n",
              "    }\n",
              "    30% {\n",
              "      border-color: transparent;\n",
              "      border-left-color: var(--fill-color);\n",
              "      border-top-color: var(--fill-color);\n",
              "      border-right-color: var(--fill-color);\n",
              "    }\n",
              "    40% {\n",
              "      border-color: transparent;\n",
              "      border-right-color: var(--fill-color);\n",
              "      border-top-color: var(--fill-color);\n",
              "    }\n",
              "    60% {\n",
              "      border-color: transparent;\n",
              "      border-right-color: var(--fill-color);\n",
              "    }\n",
              "    80% {\n",
              "      border-color: transparent;\n",
              "      border-right-color: var(--fill-color);\n",
              "      border-bottom-color: var(--fill-color);\n",
              "    }\n",
              "    90% {\n",
              "      border-color: transparent;\n",
              "      border-bottom-color: var(--fill-color);\n",
              "    }\n",
              "  }\n",
              "</style>\n",
              "\n",
              "  <script>\n",
              "    async function quickchart(key) {\n",
              "      const quickchartButtonEl =\n",
              "        document.querySelector('#' + key + ' button');\n",
              "      quickchartButtonEl.disabled = true;  // To prevent multiple clicks.\n",
              "      quickchartButtonEl.classList.add('colab-df-spinner');\n",
              "      try {\n",
              "        const charts = await google.colab.kernel.invokeFunction(\n",
              "            'suggestCharts', [key], {});\n",
              "      } catch (error) {\n",
              "        console.error('Error during call to suggestCharts:', error);\n",
              "      }\n",
              "      quickchartButtonEl.classList.remove('colab-df-spinner');\n",
              "      quickchartButtonEl.classList.add('colab-df-quickchart-complete');\n",
              "    }\n",
              "    (() => {\n",
              "      let quickchartButtonEl =\n",
              "        document.querySelector('#df-c66329cf-9c24-4987-812e-10279510ca8c button');\n",
              "      quickchartButtonEl.style.display =\n",
              "        google.colab.kernel.accessAllowed ? 'block' : 'none';\n",
              "    })();\n",
              "  </script>\n",
              "</div>\n",
              "    </div>\n",
              "  </div>\n"
            ]
          },
          "metadata": {},
          "execution_count": 10
        }
      ],
      "source": [
        "tfidf_text_vectorizer = TfidfVectorizer(stop_words=list(stopwords), min_df=5, max_df=0.7)\n",
        "tfidf_text_vectors = tfidf_text_vectorizer.fit_transform(df['text'])\n",
        "tfidf_text_vectors.shape\n",
        "pd.DataFrame(tfidf_text_vectors.todense())\n"
      ]
    },
    {
      "cell_type": "markdown",
      "id": "a1062b21",
      "metadata": {
        "id": "a1062b21"
      },
      "source": [
        "Q: What do the two data frames `count_text_vectors` and `tfidf_text_vectors` hold?\n",
        "\n",
        "A: The matrices count_text_vectors and tfidf_text_vectors contain processed text data from the Brown corpus, transformed using CountVectorizer() and TfidfVectorizer() functions, respectively. count_text_vectors represents token frequencies, while tfidf_text_vectors represents TF-IDF scores. Both matrices exclude stop words and allow analysis of unique words (4941 columns) and their respective frequencies or scores across documents/texts (166 rows)."
      ]
    },
    {
      "cell_type": "markdown",
      "id": "f77c3f94",
      "metadata": {
        "id": "f77c3f94"
      },
      "source": [
        "## Fitting a Non-Negative Matrix Factorization Model\n",
        "\n",
        "In this section the code to fit a five-topic NMF model has already been written. This code comes directly from the [BTAP repo](https://github.com/blueprints-for-text-analytics-python/blueprints-text), which will help you tremendously in the coming sections."
      ]
    },
    {
      "cell_type": "code",
      "execution_count": 11,
      "id": "d28745a3",
      "metadata": {
        "colab": {
          "base_uri": "https://localhost:8080/",
          "height": 0
        },
        "id": "d28745a3",
        "outputId": "23ba9117-1ab8-48d7-df8b-687b593f4f54"
      },
      "outputs": [
        {
          "output_type": "stream",
          "name": "stderr",
          "text": [
            "/usr/local/lib/python3.10/dist-packages/ipykernel/ipkernel.py:283: DeprecationWarning: `should_run_async` will not call `transform_cell` automatically in the future. Please pass the result to `transformed_cell` argument and any exception that happen during thetransform in `preprocessing_exc_tuple` in IPython 7.17 and above.\n",
            "  and should_run_async(code)\n"
          ]
        }
      ],
      "source": [
        "nmf_text_model = NMF(n_components=5, random_state=314)\n",
        "W_text_matrix = nmf_text_model.fit_transform(tfidf_text_vectors)\n",
        "H_text_matrix = nmf_text_model.components_"
      ]
    },
    {
      "cell_type": "code",
      "execution_count": 12,
      "id": "a67185e7",
      "metadata": {
        "colab": {
          "base_uri": "https://localhost:8080/",
          "height": 0
        },
        "id": "a67185e7",
        "outputId": "be4cbb76-9a57-4cc2-c94b-47c90c565e4e"
      },
      "outputs": [
        {
          "output_type": "stream",
          "name": "stdout",
          "text": [
            "\n",
            "Topic 00\n",
            "  mr (0.51)\n",
            "  president (0.45)\n",
            "  kennedy (0.43)\n",
            "  united (0.42)\n",
            "  khrushchev (0.40)\n",
            "\n",
            "Topic 01\n",
            "  said (0.88)\n",
            "  didn (0.46)\n",
            "  ll (0.45)\n",
            "  thought (0.42)\n",
            "  man (0.37)\n",
            "\n",
            "Topic 02\n",
            "  state (0.39)\n",
            "  development (0.36)\n",
            "  tax (0.33)\n",
            "  sales (0.30)\n",
            "  program (0.25)\n",
            "\n",
            "Topic 03\n",
            "  mrs (2.61)\n",
            "  mr (0.78)\n",
            "  said (0.63)\n",
            "  miss (0.52)\n",
            "  car (0.51)\n",
            "\n",
            "Topic 04\n",
            "  game (1.02)\n",
            "  league (0.74)\n",
            "  ball (0.72)\n",
            "  baseball (0.71)\n",
            "  team (0.66)\n"
          ]
        },
        {
          "output_type": "stream",
          "name": "stderr",
          "text": [
            "/usr/local/lib/python3.10/dist-packages/ipykernel/ipkernel.py:283: DeprecationWarning: `should_run_async` will not call `transform_cell` automatically in the future. Please pass the result to `transformed_cell` argument and any exception that happen during thetransform in `preprocessing_exc_tuple` in IPython 7.17 and above.\n",
            "  and should_run_async(code)\n"
          ]
        }
      ],
      "source": [
        "display_topics(nmf_text_model, tfidf_text_vectorizer.get_feature_names_out())"
      ]
    },
    {
      "cell_type": "markdown",
      "id": "fee51e9b",
      "metadata": {
        "id": "fee51e9b"
      },
      "source": [
        "Now some work for you to do. Compare the NMF factorization to the original categories from the Brown Corpus.\n",
        "\n",
        "We are interested in the extent to which our NMF factorization agrees or disagrees with the original categories in the corpus. For each topic in your NMF model, tally the Brown categories and interpret the results.\n"
      ]
    },
    {
      "cell_type": "code",
      "execution_count": 13,
      "id": "7c8c8eb0",
      "metadata": {
        "colab": {
          "base_uri": "https://localhost:8080/",
          "height": 0
        },
        "id": "7c8c8eb0",
        "outputId": "1cc5b95b-c87e-4522-a7d1-a077e405dd3f"
      },
      "outputs": [
        {
          "output_type": "stream",
          "name": "stderr",
          "text": [
            "/usr/local/lib/python3.10/dist-packages/ipykernel/ipkernel.py:283: DeprecationWarning: `should_run_async` will not call `transform_cell` automatically in the future. Please pass the result to `transformed_cell` argument and any exception that happen during thetransform in `preprocessing_exc_tuple` in IPython 7.17 and above.\n",
            "  and should_run_async(code)\n"
          ]
        },
        {
          "output_type": "execute_result",
          "data": {
            "text/plain": [
              "Topic    category  \n",
              "Topic 0  editorial     20\n",
              "         news           8\n",
              "         government     4\n",
              "Topic 1  romance       29\n",
              "         hobbies        8\n",
              "         editorial      4\n",
              "Topic 2  government    26\n",
              "         hobbies       26\n",
              "         news          11\n",
              "         editorial      2\n",
              "Topic 3  news          17\n",
              "         hobbies        1\n",
              "Topic 4  news           8\n",
              "         editorial      1\n",
              "         hobbies        1\n",
              "Name: count, dtype: int64"
            ]
          },
          "metadata": {},
          "execution_count": 13
        }
      ],
      "source": [
        "# Your code here\n",
        "\n",
        "# Create a DataFrame to hold the text data\n",
        "# Tally Brown categories for each NMF topic\n",
        "df_nfm = df\n",
        "df_nfm['Topic']= [W_text_matrix[i].tolist().index(W_text_matrix[i].max()) for i in range(len(df_nfm))]\n",
        "topics = {0 : \"Topic 0\",\n",
        "            1 : \"Topic 1\",\n",
        "            2 : \"Topic 2\",\n",
        "            3 : \"Topic 3\",\n",
        "            4 : \"Topic 4\"}\n",
        "df_nfm[\"Topic\"] = df_nfm[\"Topic\"].map(topics)\n",
        "# count how many documents in each of the Brown categories are in each topic created by the NMF\n",
        "df_nfm.groupby('Topic')['category'].value_counts()\n"
      ]
    },
    {
      "cell_type": "code",
      "source": [
        "df_nfm.groupby(['Topic','category']).size().unstack().plot(kind='bar', ylabel='Counts', xlabel='Topics', title='Topics Counts by Categories', rot=0)\n"
      ],
      "metadata": {
        "colab": {
          "base_uri": "https://localhost:8080/",
          "height": 547
        },
        "id": "p-K8Zma-NNiG",
        "outputId": "2fea065a-868e-451f-e8d5-b4a2d3d81efd"
      },
      "id": "p-K8Zma-NNiG",
      "execution_count": 14,
      "outputs": [
        {
          "output_type": "stream",
          "name": "stderr",
          "text": [
            "/usr/local/lib/python3.10/dist-packages/ipykernel/ipkernel.py:283: DeprecationWarning: `should_run_async` will not call `transform_cell` automatically in the future. Please pass the result to `transformed_cell` argument and any exception that happen during thetransform in `preprocessing_exc_tuple` in IPython 7.17 and above.\n",
            "  and should_run_async(code)\n"
          ]
        },
        {
          "output_type": "execute_result",
          "data": {
            "text/plain": [
              "<Axes: title={'center': 'Topics Counts by Categories'}, xlabel='Topics', ylabel='Counts'>"
            ]
          },
          "metadata": {},
          "execution_count": 14
        },
        {
          "output_type": "display_data",
          "data": {
            "text/plain": [
              "<Figure size 640x480 with 1 Axes>"
            ],
            "image/png": "[encoded data removed]"
          },
          "metadata": {}
        }
      ]
    },
    {
      "cell_type": "markdown",
      "id": "f8d4e2bc",
      "metadata": {
        "id": "f8d4e2bc"
      },
      "source": [
        "Q: How does your five-topic NMF model compare to the original Brown categories?\n",
        "\n",
        "A: The Topic 0 is mainly editorial, considering the most counts for the category. Topic 1 is Romance, Topic 2 is a split between Government and Hobbies. Topic 3 and 4 are both news.\n",
        "\n",
        "Although a definitive conclusion requires further analysis on our part, the initial visual comparison suggests that NMF model captures at least some aspects of the Brown categories. Investigating the underlying data would provide a more comprehensive understanding of the model's representativeness.\n",
        "\n"
      ]
    },
    {
      "cell_type": "markdown",
      "id": "82e37cb5",
      "metadata": {
        "id": "82e37cb5"
      },
      "source": [
        "## Fitting an LSA Model\n",
        "\n",
        "In this section, follow the example from the repository and fit an LSA model (called a \"TruncatedSVD\" in `sklearn`). Again fit a five-topic model and compare it to the actual categories in the Brown corpus. Use the TF-IDF vectors for your fit, as above.\n",
        "\n",
        "To be explicit, we are once again interested in the extent to which this LSA factorization agrees or disagrees with the original categories in the corpus. For each topic in your model, tally the Brown categories and interpret the results.\n"
      ]
    },
    {
      "cell_type": "code",
      "execution_count": 15,
      "id": "00b53d3d",
      "metadata": {
        "colab": {
          "base_uri": "https://localhost:8080/",
          "height": 0
        },
        "id": "00b53d3d",
        "outputId": "b1d39ee4-2c46-4e13-a963-91bb61c0df8e"
      },
      "outputs": [
        {
          "output_type": "stream",
          "name": "stderr",
          "text": [
            "/usr/local/lib/python3.10/dist-packages/ipykernel/ipkernel.py:283: DeprecationWarning: `should_run_async` will not call `transform_cell` automatically in the future. Please pass the result to `transformed_cell` argument and any exception that happen during thetransform in `preprocessing_exc_tuple` in IPython 7.17 and above.\n",
            "  and should_run_async(code)\n"
          ]
        },
        {
          "output_type": "execute_result",
          "data": {
            "text/plain": [
              "Topic    category  \n",
              "Topic 0  hobbies       36\n",
              "         news          34\n",
              "         government    30\n",
              "         editorial     27\n",
              "         romance       21\n",
              "Topic 1  romance        8\n",
              "Topic 3  news           3\n",
              "Topic 4  news           7\n",
              "Name: count, dtype: int64"
            ]
          },
          "metadata": {},
          "execution_count": 15
        }
      ],
      "source": [
        "# Your code here\n",
        "svd_text_model = TruncatedSVD(n_components = 5, random_state=314)\n",
        "W_svd_text_matrix = svd_text_model.fit_transform(tfidf_text_vectors)\n",
        "H_svd_text_matrix = svd_text_model.components_\n",
        "\n",
        "# append the clustered topics to the dataframe using the highest probability in W_text_matrix\n",
        "df_svd = df\n",
        "df_svd['Topic']= [W_svd_text_matrix[i].tolist().index(W_svd_text_matrix[i].max()) for i in range(len(df_svd))]\n",
        "topics = {0 : \"Topic 0\",\n",
        "            1 : \"Topic 1\",\n",
        "            2 : \"Topic 2\",\n",
        "            3 : \"Topic 3\",\n",
        "            4 : \"Topic 4\"}\n",
        "df_svd[\"Topic\"] = df_svd[\"Topic\"].map(topics)\n",
        "# count how many documents in each of the Brown categories are in each topic created by the NMF\n",
        "df_svd.groupby('Topic')['category'].value_counts()\n",
        "\n"
      ]
    },
    {
      "cell_type": "code",
      "source": [
        "df_svd.groupby(['Topic','category']).size().unstack().plot(kind='bar', ylabel='Counts', xlabel='Topics', title='Topics Counts by Categories', rot=0)\n"
      ],
      "metadata": {
        "colab": {
          "base_uri": "https://localhost:8080/",
          "height": 547
        },
        "id": "Qoc0CUfrQPvw",
        "outputId": "0046b525-b5cd-43f4-ee9b-9572adbec281"
      },
      "id": "Qoc0CUfrQPvw",
      "execution_count": 16,
      "outputs": [
        {
          "output_type": "stream",
          "name": "stderr",
          "text": [
            "/usr/local/lib/python3.10/dist-packages/ipykernel/ipkernel.py:283: DeprecationWarning: `should_run_async` will not call `transform_cell` automatically in the future. Please pass the result to `transformed_cell` argument and any exception that happen during thetransform in `preprocessing_exc_tuple` in IPython 7.17 and above.\n",
            "  and should_run_async(code)\n"
          ]
        },
        {
          "output_type": "execute_result",
          "data": {
            "text/plain": [
              "<Axes: title={'center': 'Topics Counts by Categories'}, xlabel='Topics', ylabel='Counts'>"
            ]
          },
          "metadata": {},
          "execution_count": 16
        },
        {
          "output_type": "display_data",
          "data": {
            "text/plain": [
              "<Figure size 640x480 with 1 Axes>"
            ],
            "image/png": "[encoded data removed]"
          },
          "metadata": {}
        }
      ]
    },
    {
      "cell_type": "markdown",
      "id": "4d94d56f",
      "metadata": {
        "id": "4d94d56f"
      },
      "source": [
        "Q: How does your five-topic LSA model compare to the original Brown categories?\n",
        "\n",
        "A: Based on the groupby value counts, the LSA model appears to struggle with clearly differentiating the Brown categories within some topics.\n",
        "\n",
        "Topic 0: Lacks distinct category separation, suggesting documents might be spread across various categories instead of forming a cohesive group.\n",
        "Topic 1, 3, and 4: Each primarily associates with only one category, but these categories also appear in other topics, leading to ambiguity. Interestingly, topics 3 and 4 seem to merge into one category, indicating potential redundancy.\n",
        "Missing topic 2: The complete absence of this topic suggests LSA might not fully represent the entire range of categories present in the data."
      ]
    },
    {
      "cell_type": "code",
      "execution_count": 17,
      "id": "377a886e",
      "metadata": {
        "colab": {
          "base_uri": "https://localhost:8080/",
          "height": 0
        },
        "id": "377a886e",
        "outputId": "191507ea-2501-4ccb-b68e-b280c1c67f64"
      },
      "outputs": [
        {
          "output_type": "stream",
          "name": "stdout",
          "text": [
            "\n",
            "Topic 00\n",
            "  said (0.44)\n",
            "  mr (0.25)\n",
            "  mrs (0.22)\n",
            "  state (0.20)\n",
            "  man (0.17)\n",
            "\n",
            "Topic 01\n",
            "  said (3.89)\n",
            "  ll (2.73)\n",
            "  didn (2.63)\n",
            "  thought (2.20)\n",
            "  got (1.97)\n",
            "\n",
            "Topic 02\n",
            "  mrs (3.12)\n",
            "  mr (1.70)\n",
            "  said (1.06)\n",
            "  kennedy (0.82)\n",
            "  khrushchev (0.77)\n",
            "\n",
            "Topic 03\n",
            "  mrs (29.45)\n",
            "  club (6.53)\n",
            "  game (6.12)\n",
            "  jr (5.60)\n",
            "  university (5.20)\n",
            "\n",
            "Topic 04\n",
            "  game (4.54)\n",
            "  league (3.27)\n",
            "  baseball (3.22)\n",
            "  ball (3.10)\n",
            "  team (2.94)\n"
          ]
        },
        {
          "output_type": "stream",
          "name": "stderr",
          "text": [
            "/usr/local/lib/python3.10/dist-packages/ipykernel/ipkernel.py:283: DeprecationWarning: `should_run_async` will not call `transform_cell` automatically in the future. Please pass the result to `transformed_cell` argument and any exception that happen during thetransform in `preprocessing_exc_tuple` in IPython 7.17 and above.\n",
            "  and should_run_async(code)\n"
          ]
        }
      ],
      "source": [
        "# call display_topics on your model\n",
        "display_topics(svd_text_model, tfidf_text_vectorizer.get_feature_names_out())\n"
      ]
    },
    {
      "cell_type": "markdown",
      "id": "ea8b280a",
      "metadata": {
        "id": "ea8b280a"
      },
      "source": [
        "Q: What is your interpretation of the display topics output?\n",
        "\n",
        "A: The LSA Model Topics are hard to decipher. Words like \"said\", \"mr\", \"mrs\" are seen in multiple topics. Deciphering the LSA model's topics is tricky due to common words like \"mr\" and \"mrs\" showing up in various topics. While Topic04 relates to hobbies, others lack clear connections. Including many everyday words like \"said\" may blur results. Still, Topic04 stands out for its clear link to sports. These findings stress the need for better word filtering and deeper topic analysis in LSA modeling."
      ]
    },
    {
      "cell_type": "markdown",
      "id": "b4ab4d29",
      "metadata": {
        "id": "b4ab4d29"
      },
      "source": [
        "## Fitting an LDA Model\n",
        "\n",
        "Finally, fit a five-topic LDA model using the count vectors (`count_text_vectors` from above). Display the results using `pyLDAvis.display` and describe what you learn from that visualization."
      ]
    },
    {
      "cell_type": "code",
      "execution_count": 18,
      "id": "802cb8ff",
      "metadata": {
        "colab": {
          "base_uri": "https://localhost:8080/",
          "height": 0
        },
        "id": "802cb8ff",
        "outputId": "5c9a7678-4de2-4741-f89d-da544c9684fa"
      },
      "outputs": [
        {
          "output_type": "stream",
          "name": "stderr",
          "text": [
            "/usr/local/lib/python3.10/dist-packages/ipykernel/ipkernel.py:283: DeprecationWarning: `should_run_async` will not call `transform_cell` automatically in the future. Please pass the result to `transformed_cell` argument and any exception that happen during thetransform in `preprocessing_exc_tuple` in IPython 7.17 and above.\n",
            "  and should_run_async(code)\n"
          ]
        },
        {
          "output_type": "execute_result",
          "data": {
            "text/plain": [
              "Topic    category  \n",
              "Topic 0  romance       28\n",
              "         hobbies       11\n",
              "         news           4\n",
              "         editorial      3\n",
              "         government     1\n",
              "Topic 1  government    12\n",
              "         hobbies        9\n",
              "         news           3\n",
              "         editorial      1\n",
              "Topic 2  news          32\n",
              "         editorial     21\n",
              "         government     3\n",
              "         hobbies        2\n",
              "         romance        1\n",
              "Topic 3  hobbies        8\n",
              "         government     4\n",
              "         news           3\n",
              "         editorial      2\n",
              "Topic 4  government    10\n",
              "         hobbies        6\n",
              "         news           2\n",
              "Name: count, dtype: int64"
            ]
          },
          "metadata": {},
          "execution_count": 18
        }
      ],
      "source": [
        "# Fit your LDA model here\n",
        "# Fit your LDA model here\n",
        "lda_text_model = LatentDirichletAllocation(n_components = 5, random_state=314)\n",
        "W_lda_text_matrix = lda_text_model.fit_transform(count_text_vectors)\n",
        "H_lda_text_matrix = lda_text_model.components_\n",
        "# Your code here\n",
        "\n",
        "# append the clustered topics to the dataframe using the highest probability in W_text_matrix\n",
        "df_lda = df\n",
        "df_lda['Topic']= [W_lda_text_matrix[i].tolist().index(W_lda_text_matrix[i].max()) for i in range(len(df_lda))]\n",
        "topics = {0 : \"Topic 0\",\n",
        "            1 : \"Topic 1\",\n",
        "            2 : \"Topic 2\",\n",
        "            3 : \"Topic 3\",\n",
        "            4 : \"Topic 4\"}\n",
        "df_lda[\"Topic\"] = df_lda[\"Topic\"].map(topics)\n",
        "# count how many documents in each of the Brown categories are in each topic created by the NMF\n",
        "df_lda.groupby('Topic')['category'].value_counts()\n"
      ]
    },
    {
      "cell_type": "code",
      "execution_count": 19,
      "id": "ab18adf5",
      "metadata": {
        "colab": {
          "base_uri": "https://localhost:8080/",
          "height": 0
        },
        "id": "ab18adf5",
        "outputId": "7ece48ac-65f3-4a03-e505-c7fc852179cf"
      },
      "outputs": [
        {
          "output_type": "stream",
          "name": "stdout",
          "text": [
            "\n",
            "Topic 00\n",
            "  said (1.05)\n",
            "  mrs (0.82)\n",
            "  little (0.56)\n",
            "  good (0.51)\n",
            "  way (0.50)\n",
            "\n",
            "Topic 01\n",
            "  state (0.67)\n",
            "  development (0.63)\n",
            "  000 (0.57)\n",
            "  program (0.48)\n",
            "  business (0.44)\n",
            "\n",
            "Topic 02\n",
            "  said (1.18)\n",
            "  mr (0.72)\n",
            "  president (0.51)\n",
            "  city (0.43)\n",
            "  state (0.37)\n",
            "\n",
            "Topic 03\n",
            "  feed (0.55)\n",
            "  college (0.54)\n",
            "  general (0.44)\n",
            "  university (0.43)\n",
            "  work (0.37)\n",
            "\n",
            "Topic 04\n",
            "  states (1.14)\n",
            "  state (1.02)\n",
            "  united (0.84)\n",
            "  shall (0.66)\n",
            "  government (0.61)\n"
          ]
        },
        {
          "output_type": "stream",
          "name": "stderr",
          "text": [
            "/usr/local/lib/python3.10/dist-packages/ipykernel/ipkernel.py:283: DeprecationWarning: `should_run_async` will not call `transform_cell` automatically in the future. Please pass the result to `transformed_cell` argument and any exception that happen during thetransform in `preprocessing_exc_tuple` in IPython 7.17 and above.\n",
            "  and should_run_async(code)\n"
          ]
        }
      ],
      "source": [
        "# Call `display_topics` on your fitted model here\n",
        "display_topics(lda_text_model, tfidf_text_vectorizer.get_feature_names_out())"
      ]
    },
    {
      "cell_type": "code",
      "source": [
        "df_lda.groupby(['Topic','category']).size().unstack().plot(kind='bar', ylabel='Counts', xlabel='Topics', title='Topics Counts by Categories', rot=0)"
      ],
      "metadata": {
        "colab": {
          "base_uri": "https://localhost:8080/",
          "height": 547
        },
        "id": "GiMxvXyXCLgv",
        "outputId": "2fc36b35-bdbb-4447-95b5-99d445efb562"
      },
      "id": "GiMxvXyXCLgv",
      "execution_count": 20,
      "outputs": [
        {
          "output_type": "stream",
          "name": "stderr",
          "text": [
            "/usr/local/lib/python3.10/dist-packages/ipykernel/ipkernel.py:283: DeprecationWarning: `should_run_async` will not call `transform_cell` automatically in the future. Please pass the result to `transformed_cell` argument and any exception that happen during thetransform in `preprocessing_exc_tuple` in IPython 7.17 and above.\n",
            "  and should_run_async(code)\n"
          ]
        },
        {
          "output_type": "execute_result",
          "data": {
            "text/plain": [
              "<Axes: title={'center': 'Topics Counts by Categories'}, xlabel='Topics', ylabel='Counts'>"
            ]
          },
          "metadata": {},
          "execution_count": 20
        },
        {
          "output_type": "display_data",
          "data": {
            "text/plain": [
              "<Figure size 640x480 with 1 Axes>"
            ],
            "image/png": "[encoded data removed]"
          },
          "metadata": {}
        }
      ]
    },
    {
      "cell_type": "markdown",
      "id": "f2c67876",
      "metadata": {
        "id": "f2c67876"
      },
      "source": [
        "Q: What inference do you draw from the displayed topics for your LDA model?\n",
        "\n",
        "A: The LDA model highlights that topics like \"news\" are distinguishable by keywords such as \"president,\" \"city,\" or \"state\" in Topic02. Similarly, Topic01's keywords may suggest topics related to \"government.\" However, other topics lack clear connections to categories like \"Romance\" and \"Editorial.\" The keywords in these topics do not sufficiently match the themes of these categories.\n",
        "\n",
        "Q: Repeat the tallying of Brown categories within your topics. How does your five-topic LDA model compare to the original Brown categories?\n",
        "\n",
        "A: Comparing the five-topic LDA model with the original Brown categories, the LDA model exhibits improved performance over the previous LSA model. The categorization within each topic is more distinct, with clearer distinctions observed. For instance, Topic01 and Topic04 show similar counts for \"government\" and \"hobbies,\" while Topic02 primarily consists of \"news\" and \"editorial\" documents. Topic 0 encompasses a mix of editorial, government, news, and romance, while Topic 1 solely focuses on romance. Topic 3 is entirely composed of news, and Topic 4 predominantly comprises news as well."
      ]
    },
    {
      "cell_type": "markdown",
      "id": "a3d14c87",
      "metadata": {
        "id": "a3d14c87"
      },
      "source": [
        "Q: What conclusions do you draw from the visualization above? Please address the principal component scatterplot and the salient terms graph.\n",
        "\n",
        "A: PC3 (topic02) holds 32% of tokens, with \"news\" and \"editorial\" documents, hinting at overlap. PC4 (topic03) has only 12.4% tokens, featuring \"feed\" and \"college,\" supporting \"hobbies.\" Interactive exploration reveals unique tokens per topic. While topics are distinct, 2 and 4 are similar, and 3 is broader."
      ]
    },
    {
      "cell_type": "code",
      "execution_count": 21,
      "id": "6aae75ca",
      "metadata": {
        "colab": {
          "base_uri": "https://localhost:8080/",
          "height": 0
        },
        "id": "6aae75ca",
        "outputId": "f39be40c-fe6f-4c28-8f06-5a9557651248"
      },
      "outputs": [
        {
          "output_type": "stream",
          "name": "stderr",
          "text": [
            "/usr/local/lib/python3.10/dist-packages/ipykernel/ipkernel.py:283: DeprecationWarning: `should_run_async` will not call `transform_cell` automatically in the future. Please pass the result to `transformed_cell` argument and any exception that happen during thetransform in `preprocessing_exc_tuple` in IPython 7.17 and above.\n",
            "  and should_run_async(code)\n"
          ]
        }
      ],
      "source": [
        "lda_display = pyLDAvis.lda_model.prepare(lda_text_model, count_text_vectors, count_text_vectorizer, sort_topics=False)"
      ]
    },
    {
      "cell_type": "code",
      "execution_count": 23,
      "id": "2a89fc15",
      "metadata": {
        "colab": {
          "base_uri": "https://localhost:8080/",
          "height": 917
        },
        "id": "2a89fc15",
        "outputId": "e0e076f7-6e86-44c3-b9c0-8da1b294bfd3"
      },
      "outputs": [
        {
          "output_type": "stream",
          "name": "stderr",
          "text": [
            "/usr/local/lib/python3.10/dist-packages/ipykernel/ipkernel.py:283: DeprecationWarning: `should_run_async` will not call `transform_cell` automatically in the future. Please pass the result to `transformed_cell` argument and any exception that happen during thetransform in `preprocessing_exc_tuple` in IPython 7.17 and above.\n",
            "  and should_run_async(code)\n"
          ]
        },
        {
          "output_type": "execute_result",
          "data": {
            "text/plain": [
              "<IPython.core.display.HTML object>"
            ],
            "text/html": [
              "\n",
              "<link rel=\"stylesheet\" type=\"text/css\" href=\"https://cdn.jsdelivr.net/gh/bmabey/pyLDAvis@3.4.0/pyLDAvis/js/ldavis.v1.0.0.css\">\n",
              "\n",
              "\n",
              "<div id=\"ldavis_el917651402046806196002765091845\" style=\"background-color:white;\"></div>\n",
              "<script type=\"text/javascript\">\n",
              "\n",
              "var ldavis_el917651402046806196002765091845_data = {\"mdsDat\": {\"x\": [-0.24352303362204156, 0.13055719395525925, -0.05665667547392707, 0.04142748483975118, 0.12819503030095827], \"y\": [0.0068297206794732095, -0.055884744701646734, 0.03852366287446727, -0.11285215230955846, 0.12338351345726474], \"topics\": [1, 2, 3, 4, 5], \"cluster\": [1, 1, 1, 1, 1], \"Freq\": [22.896957296534488, 20.4319685428418, 32.006264072526896, 12.368825612932008, 12.295984475164804]}, \"tinfo\": {\"Term\": [\"states\", \"state\", \"said\", \"mrs\", \"united\", \"shall\", \"development\", \"tax\", \"feed\", \"fiscal\", \"college\", \"government\", \"ll\", \"don\", \"000\", \"university\", \"department\", \"didn\", \"sales\", \"president\", \"rhode\", \"got\", \"equipment\", \"little\", \"mother\", \"class\", \"act\", \"program\", \"system\", \"property\", \"hair\", \"baby\", \"clothes\", \"walls\", \"anne\", \"fig\", \"pale\", \"pink\", \"dry\", \"yellow\", \"entrance\", \"hadn\", \"ham\", \"couldn\", \"frames\", \"fingers\", \"flowers\", \"windows\", \"bride\", \"hell\", \"handsome\", \"coat\", \"cloth\", \"sweet\", \"stared\", \"liked\", \"colored\", \"studio\", \"bed\", \"trees\", \"shelter\", \"mother\", \"looked\", \"clay\", \"wasn\", \"guests\", \"didn\", \"woman\", \"sat\", \"pieces\", \"colors\", \"eyes\", \"drill\", \"mrs\", \"ll\", \"don\", \"thought\", \"room\", \"sun\", \"inch\", \"ve\", \"black\", \"little\", \"knew\", \"went\", \"sure\", \"got\", \"door\", \"look\", \"son\", \"know\", \"said\", \"way\", \"come\", \"came\", \"good\", \"place\", \"away\", \"old\", \"water\", \"right\", \"man\", \"let\", \"life\", \"left\", \"house\", \"day\", \"home\", \"systems\", \"marketing\", \"electronic\", \"boats\", \"missiles\", \"components\", \"aircraft\", \"machine\", \"rhode\", \"assessment\", \"shipments\", \"laboratory\", \"bankers\", \"savings\", \"yield\", \"industrial\", \"forests\", \"compared\", \"machines\", \"procurement\", \"missile\", \"conservation\", \"utility\", \"inventories\", \"polaris\", \"manufacturing\", \"machinery\", \"investment\", \"recreation\", \"banks\", \"property\", \"industry\", \"equipment\", \"sales\", \"radiation\", \"planning\", \"development\", \"medical\", \"providence\", \"billion\", \"system\", \"shares\", \"manufacturers\", \"island\", \"1960\", \"production\", \"1959\", \"products\", \"research\", \"co\", \"range\", \"000\", \"program\", \"business\", \"cost\", \"million\", \"available\", \"state\", \"small\", \"company\", \"national\", \"1961\", \"provide\", \"areas\", \"service\", \"use\", \"military\", \"tax\", \"public\", \"khrushchev\", \"player\", \"rayburn\", \"congo\", \"republican\", \"moscow\", \"southern\", \"baseball\", \"railroad\", \"castro\", \"troops\", \"yards\", \"charter\", \"yankees\", \"premier\", \"alexander\", \"democrats\", \"captain\", \"chinese\", \"coach\", \"laos\", \"gen\", \"cuban\", \"opposition\", \"soviet\", \"katanga\", \"republicans\", \"pope\", \"bombs\", \"robinson\", \"berlin\", \"speaker\", \"communist\", \"democratic\", \"eisenhower\", \"league\", \"mayor\", \"cuba\", \"st\", \"police\", \"yesterday\", \"china\", \"west\", \"monday\", \"race\", \"john\", \"east\", \"kennedy\", \"city\", \"mr\", \"meeting\", \"party\", \"president\", \"said\", \"week\", \"war\", \"political\", \"nations\", \"game\", \"committee\", \"leaders\", \"american\", \"world\", \"york\", \"home\", \"county\", \"man\", \"united\", \"people\", \"house\", \"state\", \"day\", \"old\", \"000\", \"government\", \"men\", \"national\", \"states\", \"school\", \"academic\", \"faculty\", \"trustees\", \"campus\", \"recognition\", \"classical\", \"professors\", \"mathematics\", \"musical\", \"tends\", \"feed\", \"stockholders\", \"fulfill\", \"meat\", \"unions\", \"chemical\", \"motors\", \"prosperity\", \"cattle\", \"prestige\", \"designer\", \"curriculum\", \"clerical\", \"catholic\", \"collective\", \"recorded\", \"appearances\", \"creative\", \"membership\", \"trust\", \"music\", \"chamber\", \"students\", \"student\", \"colleges\", \"teachers\", \"college\", \"engineer\", \"interior\", \"university\", \"daily\", \"pool\", \"schools\", \"education\", \"art\", \"general\", \"anti\", \"members\", \"technical\", \"labor\", \"design\", \"administration\", \"level\", \"work\", \"school\", \"president\", \"problem\", \"board\", \"department\", \"american\", \"good\", \"men\", \"aid\", \"world\", \"high\", \"cousin\", \"rehabilitation\", \"coal\", \"vocational\", \"definition\", \"denied\", \"thereof\", \"bonds\", \"payment\", \"rico\", \"puerto\", \"coordination\", \"filing\", \"adopting\", \"recommendation\", \"calendar\", \"hated\", \"proceedings\", \"commodities\", \"sectors\", \"connections\", \"62\", \"vehicles\", \"allocation\", \"treasury\", \"tractor\", \"adjustments\", \"upstairs\", \"shall\", \"assigned\", \"india\", \"exercise\", \"interference\", \"payments\", \"fiscal\", \"authorized\", \"claim\", \"stations\", \"insurance\", \"claims\", \"class\", \"states\", \"income\", \"return\", \"tax\", \"united\", \"junior\", \"hearing\", \"act\", \"countries\", \"cars\", \"state\", \"agreement\", \"department\", \"government\", \"secretary\", \"officer\", \"section\", \"title\", \"federal\", \"use\", \"service\", \"30\", \"board\", \"services\", \"pay\", \"local\", \"day\"], \"Freq\": [328.0, 485.0, 803.0, 307.0, 298.0, 123.0, 199.0, 172.0, 93.0, 107.0, 120.0, 273.0, 167.0, 178.0, 282.0, 122.0, 153.0, 124.0, 117.0, 297.0, 86.0, 147.0, 105.0, 237.0, 97.0, 97.0, 127.0, 230.0, 142.0, 95.0, 35.26603169767954, 35.25985457287087, 32.34282391715051, 32.33880808918397, 34.23407300433104, 31.327619231629452, 26.49851762545452, 25.524771041025033, 23.573236778164134, 25.427138253320592, 21.619428115149073, 30.993044678951485, 19.675700186736588, 51.43981707238511, 20.58973330557002, 17.726312752092998, 23.305040810822877, 16.751973310918512, 17.67796618496799, 15.781789493525498, 15.780666162782111, 15.765038139000263, 14.807347406646542, 14.8068576792568, 14.80652524389839, 14.805562659021444, 15.721341674975067, 14.793031300690545, 34.14874849426125, 27.742455010304518, 57.20416985925257, 90.05985801714502, 78.93387784968844, 75.71076669182493, 53.907238782962985, 29.98283937143006, 108.73073941993059, 50.250850745194825, 34.93419186644637, 48.297523762670544, 27.14174620759293, 83.99183249657631, 31.328311483268145, 234.33243224195434, 134.73682388828433, 142.2253206365198, 113.48998687104927, 84.70739288661422, 47.85107317359342, 58.28164360651544, 69.82209572678225, 54.44733492420302, 159.93873456068252, 71.32903793545294, 100.47914727932273, 70.80739412891525, 101.54763550743188, 56.56434544201605, 89.14937958191949, 57.942787656314664, 112.80221967394905, 300.1915799526996, 143.0821472058164, 108.667855284092, 97.9319284628816, 146.72016490751125, 107.63695959300969, 81.83857826579661, 125.33252753577949, 93.65427756652981, 105.80662989454608, 122.43392673750671, 76.37882747857954, 81.8560900906335, 81.25833894745257, 87.71132897871952, 85.95109916972181, 84.11085690371247, 37.62033917696875, 41.260430437148116, 26.108504126894054, 38.014900667186424, 22.24099597794039, 21.223514374686506, 54.24848359225259, 50.39470006191903, 82.33814930496457, 17.226327234066982, 13.599502717078883, 16.290888590985332, 10.740632157231765, 17.005387252552104, 15.133342494227247, 72.03843499105989, 14.938223060272296, 24.574363297207952, 28.908173871233366, 17.448867762039537, 36.584742597938245, 7.854789008100231, 11.322258118599903, 6.910963131905748, 6.906977941612563, 18.167211407818026, 30.17941537930653, 24.91805800990375, 32.623931200863666, 16.267831354180633, 85.04409531611361, 85.23076408361685, 92.04061867537702, 102.21030740338098, 31.419941862258156, 72.29354736159627, 160.58456695669338, 84.1222111779404, 39.271013042527755, 47.153525908302164, 110.99031567699491, 32.5265688805093, 35.56961213374255, 88.5138715566949, 93.20958887097922, 63.8497461282622, 50.27196273949961, 49.696057546593096, 72.6346942154108, 46.82621040883027, 53.98496787689064, 144.62866634727345, 123.508968456553, 113.198610547908, 73.61038906890673, 79.16133829903133, 74.66204969189852, 169.4652034229627, 100.42960965644937, 76.12853270707207, 92.20105914345233, 67.16061893470109, 66.50125650021174, 62.631295228027284, 86.66947068148008, 95.41631280398218, 65.2538935255829, 67.84173831149445, 65.61364145319386, 73.42554374783123, 48.677684982965935, 46.70642783836324, 43.73337493489187, 39.778178768084445, 37.80010747839432, 34.82722841019423, 39.618770244775035, 32.84180904847267, 29.881397928372554, 26.912817657012955, 26.899591011392964, 27.860295497571606, 25.925615833025613, 24.93520264611284, 24.927860722599323, 23.946196773271826, 23.93872466553854, 22.94971042948156, 22.940661109611234, 49.61478194372409, 21.95531968014697, 20.974708622899158, 20.956960655847748, 78.92743956978481, 19.982341472209367, 19.972841684788573, 19.96743951892554, 18.996535964167762, 18.99455107756808, 63.22425972645918, 40.66068656369516, 70.96278176057116, 59.004657601841274, 38.64663320997924, 57.991204762006944, 43.21771150153892, 36.74625566194078, 71.475304674327, 44.37915026504162, 58.0296535827317, 32.828237255154924, 96.08418538831437, 58.46515417030855, 40.505659296093064, 142.98368478351793, 83.85420121427477, 111.14875577393478, 172.62353200026422, 287.87814236030164, 84.1321370261443, 92.01772270153539, 205.40634873734848, 470.89022085822705, 140.7626514325604, 113.01139950261599, 71.05038233620006, 67.1651888988564, 73.87620209973893, 83.7617194529075, 50.002467140636455, 148.64615016805453, 138.1358696255813, 96.83009236355026, 140.02404620727555, 76.83350051553309, 129.5803754748481, 125.6215253615764, 118.36210204722833, 110.56501449328202, 148.8451794619125, 119.60071243642514, 108.76991140081195, 105.30536803757684, 99.52164947706413, 90.4656178111907, 91.57849254494347, 96.1578640727868, 83.84436994950849, 27.814826569302763, 48.93684709004371, 18.503509985385968, 14.879468477087562, 15.473941152164231, 9.373352607053867, 8.429864173735858, 7.546272419664453, 18.414920463159127, 7.5189597994270745, 84.44155436104485, 18.268486568333227, 6.622128289059264, 19.541713824662537, 18.587130254335833, 23.146111999202635, 38.25197181315959, 4.773288678682473, 17.381566736920455, 10.238816773832228, 14.802706325018887, 7.011676741661543, 4.6632729137915545, 25.479595882435984, 10.014582060857432, 7.582398158918736, 4.540015041328818, 12.853649254073645, 19.425628383036642, 29.706978723475014, 46.825010878350895, 21.450400541392458, 52.994368401959214, 54.955281373609324, 16.311008295186326, 25.620730698223632, 83.62014229714035, 24.941675902345818, 28.633459492336456, 67.01241734256256, 33.33126174189985, 43.6273765441171, 49.32037920830864, 46.41828570415919, 34.85619603196487, 67.66899625922062, 32.10381351159175, 51.623028144455965, 31.177936996002913, 33.895493042174635, 35.04082063901765, 44.493279558925714, 35.228834426741415, 56.488612527782735, 47.16711951156477, 55.6877896613356, 39.64150536052194, 42.715660545386676, 38.01482404768295, 43.015109783672315, 42.9025617857025, 38.257154409178995, 34.068781601685565, 37.62879650451399, 34.84607073269715, 24.895381739118, 17.608710471055975, 22.617152720693532, 12.98835471768091, 12.0816511789522, 17.255761258059366, 11.043916669732567, 28.504391307942157, 36.751871727233606, 17.29261904159076, 17.2899737152598, 6.586201822372047, 15.531276371536137, 5.669749860722202, 16.06995842193478, 20.12573678235824, 5.626627615289124, 6.416436823858584, 14.343171489794281, 4.761534756745251, 5.547238482984894, 5.532508833757238, 35.56950814402407, 10.223530392476148, 22.866566967658503, 19.499373411737242, 10.913572827235205, 5.430408333634483, 101.16733937850343, 9.141628146127118, 29.60437781154309, 21.94557072459195, 28.49445862632929, 31.902747941397237, 82.24350507900972, 23.619992267391172, 32.823688144756076, 43.57399739685017, 25.75731022225976, 22.2133581972186, 63.52515544416801, 175.30239292056694, 50.03986268624483, 41.16101243435986, 86.65875331991772, 128.3923792638742, 39.91034171743847, 33.815786827704486, 65.01077528351252, 47.42060534620209, 40.20927959281289, 156.2942625971685, 38.839174692245955, 66.04762002987113, 93.4961855647462, 54.83909075025162, 32.98378789632134, 41.66456800174187, 29.989970407909514, 43.233051375568245, 57.37752089386151, 52.70114914664646, 42.2241811853102, 42.52715360132969, 36.82910800278609, 37.09681062937574, 36.74442128741975, 37.17615767602683], \"Total\": [328.0, 485.0, 803.0, 307.0, 298.0, 123.0, 199.0, 172.0, 93.0, 107.0, 120.0, 273.0, 167.0, 178.0, 282.0, 122.0, 153.0, 124.0, 117.0, 297.0, 86.0, 147.0, 105.0, 237.0, 97.0, 97.0, 127.0, 230.0, 142.0, 95.0, 36.02603912499988, 36.025888838190376, 33.10322172299767, 33.103199451516225, 35.05056255948613, 32.12853787483272, 27.25759589658225, 26.28338105769822, 24.334723323645942, 26.284575607309385, 22.386171312703574, 32.134917729304746, 20.43764235373044, 53.485417657861404, 21.413009212119388, 18.488977697815812, 24.31987835813566, 17.51484102850206, 18.48997788651866, 16.540707205667324, 16.54068383919486, 16.540152118252493, 15.566432075823181, 15.56636855315959, 15.566439385894098, 15.566408536159072, 16.541123102771518, 15.566128130021566, 35.96189057796928, 29.216873363902373, 60.42030248595261, 97.50813665440428, 85.71452146351687, 82.76557482881317, 58.48806964583607, 32.15043643449323, 124.77305109139081, 55.49593407027595, 37.89639184076532, 53.44875378566888, 29.186855354435682, 98.42108266493302, 34.108659255171276, 307.9971583578143, 167.8342271251371, 178.18542278378138, 139.82171036116094, 103.42674442190598, 54.562238116232024, 68.76954856434934, 84.83647160041043, 64.26201397041547, 237.75277971425652, 90.51973633420376, 137.70593095628738, 91.77444009129972, 147.79376856176177, 70.06214294099416, 129.86657516906675, 73.99592681862178, 191.4807208043415, 803.8548070648296, 274.85427260577245, 186.07372334983495, 163.1589979967047, 306.4340359076895, 190.15544412730662, 123.89985251249692, 254.84946828941258, 162.71698521260248, 213.57338284403232, 283.01536045192034, 121.95636925526736, 161.53017716157908, 163.20991301290178, 234.1218436768742, 302.3464743334504, 268.5137641979603, 38.3890018127688, 42.21975114655712, 26.87023951148845, 39.32530511253742, 23.031355908186324, 22.069023878838713, 56.67664066614086, 52.83541185825126, 86.46800449904777, 18.221477632163253, 14.390064081926598, 17.262361508112303, 11.511442662430946, 18.237457198455736, 16.29290344655112, 78.46760127905358, 16.2841972269602, 26.80226895725756, 31.645263380810615, 19.14727441136655, 40.18955772227326, 8.63175043356373, 12.458169098970634, 7.671836647717196, 7.67195030715787, 20.18844642310024, 33.582287155475115, 27.758165731678748, 36.446484492775696, 18.17983889287436, 95.59958109020073, 96.93212392160383, 105.6575802606284, 117.78573708942218, 35.55944348942248, 85.0119273221591, 199.00113683933074, 101.02292341395618, 45.1438148835943, 54.9011896307497, 142.66262791523994, 37.27576952579073, 41.99097586369716, 120.33277045687878, 129.77818451581402, 84.83256378608137, 63.72708403807191, 62.84418723668009, 102.98876739202453, 59.70895018137989, 72.90815716855991, 282.944274124436, 230.32157269786683, 209.3237474816216, 115.94033775080972, 128.9930469541294, 119.71572579817425, 485.52547392811994, 211.37539248235046, 138.53740854960463, 215.7342231481857, 114.91801537520539, 112.93575546782287, 99.90679935398607, 203.5790903421851, 253.44869724604675, 123.30539886857116, 172.80964183116572, 200.80538207395293, 74.18132611605125, 49.44169052826692, 47.462601199239415, 44.493590360104946, 40.53551399617135, 38.55638985076476, 35.587527828435476, 40.52408901130405, 33.60786999510343, 30.63965223281022, 27.670894341231307, 27.670809878218435, 28.6591359337703, 26.68148137168695, 25.691806203590627, 25.69167832547868, 24.702282074756557, 24.7021542729878, 23.712487033002038, 23.71193932275295, 51.344361291669074, 22.722416271833236, 21.73341108202848, 21.73225191921752, 81.93116365784134, 20.743599793201966, 20.742911377657382, 20.74332961345865, 19.75425783489286, 19.754312772549582, 66.1067401526746, 42.436983762163, 74.99667222533027, 62.13038324129463, 40.45277924173402, 61.20732427285942, 45.37927277280927, 38.479585522126285, 78.03996648950972, 47.29725623534733, 63.02723087036466, 34.52865293710649, 108.34119862739149, 64.00922906655559, 43.3407031416964, 171.4081764578152, 96.50766365165028, 132.0418807915384, 217.90548917781643, 392.85663935368353, 99.38191347480655, 110.41190710132182, 297.0893859119429, 803.8548070648296, 190.9527989971511, 148.12895827305633, 84.33186741272112, 80.65436811910888, 91.54281280787265, 111.05863796939236, 55.26520309710709, 262.8761488078902, 256.0899824588552, 148.46972078147323, 268.5137641979603, 105.84498183835265, 283.01536045192034, 298.7240339741693, 265.6177234105346, 234.1218436768742, 485.52547392811994, 302.3464743334504, 254.84946828941258, 282.944274124436, 273.10491963972146, 193.49518722056038, 215.7342231481857, 328.08766300343314, 171.68266645156052, 28.587671191002872, 50.75235104005466, 19.380805810593987, 15.693304333758885, 16.633414863075203, 10.165631588135184, 9.245712123820622, 8.322226888959051, 20.348539793129625, 8.32234129436146, 93.529121342009, 20.35067352827827, 7.401195317063837, 22.202972880525124, 21.263556998272577, 26.86417661430776, 44.46685073473464, 5.559156794388772, 20.429848324794317, 12.080566726948899, 17.616166085442206, 8.34457166407932, 5.563614525856893, 30.740062340111116, 12.097121988775967, 9.309062259927508, 5.575810965371226, 15.790102910241018, 24.236359627179457, 37.140658075135555, 59.64261324812848, 27.08108297787435, 68.97438698866303, 71.68275492289165, 20.467141713564438, 33.347601350252475, 120.99975166695648, 32.58028930812073, 39.896080519574866, 122.31078776847795, 52.498527601506176, 75.23212830270084, 89.45812584148689, 84.56146294600373, 57.49325835273574, 198.00621277778868, 57.797206402033396, 140.21994582812468, 57.243567658301494, 68.3421630002253, 74.72871037779429, 131.4090715711944, 82.98496450235834, 256.9778623927558, 171.68266645156052, 297.0893859119429, 117.3628247872546, 173.0251476470949, 153.03062002567162, 262.8761488078902, 306.4340359076895, 193.49518722056038, 99.64739691842233, 256.0899824588552, 217.96093203160203, 25.71990035695819, 18.379206160058832, 23.884995096222248, 13.795801363596606, 12.877393873437718, 18.39587213444218, 11.96555553731714, 31.301788527830148, 40.52555344944826, 19.305747619464803, 19.305381735642015, 7.3736650185943615, 17.516110794478678, 6.456504867903878, 18.386543136832017, 23.07591468933518, 6.459370956327425, 7.374057915469409, 16.593451639249775, 5.538818995171584, 6.462219526241372, 6.457204216744056, 41.58244844081584, 11.963052970316351, 26.87025406073887, 23.09135146214564, 12.931560935207884, 6.471692815484701, 123.0494932757301, 11.129093826135756, 36.087265967704255, 26.774612595552878, 35.191972553443776, 39.791548185353356, 107.51555928474973, 29.573704296915622, 42.54665994150676, 57.80855935459404, 33.291642037189256, 28.65897514261264, 97.16968285832593, 328.08766300343314, 79.94285226747937, 64.5651679999192, 172.80964183116572, 298.7240339741693, 62.79076549191281, 50.55168073966502, 127.86759220361678, 82.87435176840481, 65.8464797371972, 485.52547392811994, 64.87874739797847, 153.03062002567162, 273.10491963972146, 119.84296064796658, 52.256274530525054, 81.49566812100727, 44.58064300425612, 112.63804601931182, 253.44869724604675, 203.5790903421851, 114.38793137157602, 173.0251476470949, 93.38657624530413, 103.89058589990499, 128.42114372832094, 302.3464743334504], \"Category\": [\"Default\", \"Default\", \"Default\", \"Default\", \"Default\", \"Default\", \"Default\", \"Default\", \"Default\", \"Default\", \"Default\", \"Default\", \"Default\", \"Default\", \"Default\", \"Default\", \"Default\", \"Default\", \"Default\", \"Default\", \"Default\", \"Default\", \"Default\", \"Default\", \"Default\", \"Default\", \"Default\", \"Default\", \"Default\", \"Default\", \"Topic1\", \"Topic1\", \"Topic1\", \"Topic1\", \"Topic1\", \"Topic1\", \"Topic1\", \"Topic1\", \"Topic1\", \"Topic1\", \"Topic1\", \"Topic1\", \"Topic1\", \"Topic1\", \"Topic1\", \"Topic1\", \"Topic1\", \"Topic1\", \"Topic1\", \"Topic1\", \"Topic1\", \"Topic1\", \"Topic1\", \"Topic1\", \"Topic1\", \"Topic1\", \"Topic1\", \"Topic1\", \"Topic1\", \"Topic1\", \"Topic1\", \"Topic1\", \"Topic1\", \"Topic1\", \"Topic1\", \"Topic1\", \"Topic1\", \"Topic1\", \"Topic1\", \"Topic1\", \"Topic1\", \"Topic1\", \"Topic1\", \"Topic1\", \"Topic1\", \"Topic1\", \"Topic1\", \"Topic1\", \"Topic1\", \"Topic1\", \"Topic1\", \"Topic1\", \"Topic1\", \"Topic1\", \"Topic1\", \"Topic1\", \"Topic1\", \"Topic1\", \"Topic1\", \"Topic1\", \"Topic1\", \"Topic1\", \"Topic1\", \"Topic1\", \"Topic1\", \"Topic1\", \"Topic1\", \"Topic1\", \"Topic1\", \"Topic1\", \"Topic1\", \"Topic1\", \"Topic1\", \"Topic1\", \"Topic1\", \"Topic1\", \"Topic1\", \"Topic1\", \"Topic2\", \"Topic2\", \"Topic2\", \"Topic2\", \"Topic2\", \"Topic2\", \"Topic2\", \"Topic2\", \"Topic2\", \"Topic2\", \"Topic2\", \"Topic2\", \"Topic2\", \"Topic2\", \"Topic2\", \"Topic2\", \"Topic2\", \"Topic2\", \"Topic2\", \"Topic2\", \"Topic2\", \"Topic2\", \"Topic2\", \"Topic2\", \"Topic2\", \"Topic2\", \"Topic2\", \"Topic2\", \"Topic2\", \"Topic2\", \"Topic2\", \"Topic2\", \"Topic2\", \"Topic2\", \"Topic2\", \"Topic2\", \"Topic2\", \"Topic2\", \"Topic2\", \"Topic2\", \"Topic2\", \"Topic2\", \"Topic2\", \"Topic2\", \"Topic2\", \"Topic2\", \"Topic2\", \"Topic2\", \"Topic2\", \"Topic2\", \"Topic2\", \"Topic2\", \"Topic2\", \"Topic2\", \"Topic2\", \"Topic2\", \"Topic2\", \"Topic2\", \"Topic2\", \"Topic2\", \"Topic2\", \"Topic2\", \"Topic2\", \"Topic2\", \"Topic2\", \"Topic2\", \"Topic2\", \"Topic2\", \"Topic2\", \"Topic3\", \"Topic3\", \"Topic3\", \"Topic3\", \"Topic3\", \"Topic3\", \"Topic3\", \"Topic3\", \"Topic3\", \"Topic3\", \"Topic3\", \"Topic3\", \"Topic3\", \"Topic3\", \"Topic3\", \"Topic3\", \"Topic3\", \"Topic3\", \"Topic3\", \"Topic3\", \"Topic3\", \"Topic3\", \"Topic3\", \"Topic3\", \"Topic3\", \"Topic3\", \"Topic3\", \"Topic3\", \"Topic3\", \"Topic3\", \"Topic3\", \"Topic3\", \"Topic3\", \"Topic3\", \"Topic3\", \"Topic3\", \"Topic3\", \"Topic3\", \"Topic3\", \"Topic3\", \"Topic3\", \"Topic3\", \"Topic3\", \"Topic3\", \"Topic3\", \"Topic3\", \"Topic3\", \"Topic3\", \"Topic3\", \"Topic3\", \"Topic3\", \"Topic3\", \"Topic3\", \"Topic3\", \"Topic3\", \"Topic3\", \"Topic3\", \"Topic3\", \"Topic3\", \"Topic3\", \"Topic3\", \"Topic3\", \"Topic3\", \"Topic3\", \"Topic3\", \"Topic3\", \"Topic3\", \"Topic3\", \"Topic3\", \"Topic3\", \"Topic3\", \"Topic3\", \"Topic3\", \"Topic3\", \"Topic3\", \"Topic3\", \"Topic3\", \"Topic3\", \"Topic3\", \"Topic4\", \"Topic4\", \"Topic4\", \"Topic4\", \"Topic4\", \"Topic4\", \"Topic4\", \"Topic4\", \"Topic4\", \"Topic4\", \"Topic4\", \"Topic4\", \"Topic4\", \"Topic4\", \"Topic4\", \"Topic4\", \"Topic4\", \"Topic4\", \"Topic4\", \"Topic4\", \"Topic4\", \"Topic4\", \"Topic4\", \"Topic4\", \"Topic4\", \"Topic4\", \"Topic4\", \"Topic4\", \"Topic4\", \"Topic4\", \"Topic4\", \"Topic4\", \"Topic4\", \"Topic4\", \"Topic4\", \"Topic4\", \"Topic4\", \"Topic4\", \"Topic4\", \"Topic4\", \"Topic4\", \"Topic4\", \"Topic4\", \"Topic4\", \"Topic4\", \"Topic4\", \"Topic4\", \"Topic4\", \"Topic4\", \"Topic4\", \"Topic4\", \"Topic4\", \"Topic4\", \"Topic4\", \"Topic4\", \"Topic4\", \"Topic4\", \"Topic4\", \"Topic4\", \"Topic4\", \"Topic4\", \"Topic4\", \"Topic4\", \"Topic4\", \"Topic4\", \"Topic5\", \"Topic5\", \"Topic5\", \"Topic5\", \"Topic5\", \"Topic5\", \"Topic5\", \"Topic5\", \"Topic5\", \"Topic5\", \"Topic5\", \"Topic5\", \"Topic5\", \"Topic5\", \"Topic5\", \"Topic5\", \"Topic5\", \"Topic5\", \"Topic5\", \"Topic5\", \"Topic5\", \"Topic5\", \"Topic5\", \"Topic5\", \"Topic5\", \"Topic5\", \"Topic5\", \"Topic5\", \"Topic5\", \"Topic5\", \"Topic5\", \"Topic5\", \"Topic5\", \"Topic5\", \"Topic5\", \"Topic5\", \"Topic5\", \"Topic5\", \"Topic5\", \"Topic5\", \"Topic5\", \"Topic5\", \"Topic5\", \"Topic5\", \"Topic5\", \"Topic5\", \"Topic5\", \"Topic5\", \"Topic5\", \"Topic5\", \"Topic5\", \"Topic5\", \"Topic5\", \"Topic5\", \"Topic5\", \"Topic5\", \"Topic5\", \"Topic5\", \"Topic5\", \"Topic5\", \"Topic5\", \"Topic5\", \"Topic5\", \"Topic5\", \"Topic5\", \"Topic5\", \"Topic5\", \"Topic5\"], \"logprob\": [30.0, 29.0, 28.0, 27.0, 26.0, 25.0, 24.0, 23.0, 22.0, 21.0, 20.0, 19.0, 18.0, 17.0, 16.0, 15.0, 14.0, 13.0, 12.0, 11.0, 10.0, 9.0, 8.0, 7.0, 6.0, 5.0, 4.0, 3.0, 2.0, 1.0, -6.6963, -6.6965, -6.7828, -6.7829, -6.726, -6.8147, -6.9821, -7.0195, -7.0991, -7.0234, -7.1856, -6.8254, -7.2798, -6.3188, -7.2344, -7.3841, -7.1105, -7.4407, -7.3869, -7.5003, -7.5004, -7.5014, -7.5641, -7.5641, -7.5641, -7.5642, -7.5042, -7.565, -6.7285, -6.9362, -6.2126, -5.7587, -5.8906, -5.9323, -6.2719, -6.8586, -5.5703, -6.3422, -6.7057, -6.3818, -6.9581, -5.8285, -6.8147, -4.8025, -5.3559, -5.3018, -5.5275, -5.82, -6.3911, -6.1939, -6.0132, -6.262, -5.1844, -5.9919, -5.6492, -5.9992, -5.6387, -6.2238, -5.7689, -6.1997, -5.5336, -4.5548, -5.2958, -5.5709, -5.6749, -5.2707, -5.5804, -5.8544, -5.4282, -5.7196, -5.5976, -5.4516, -5.9235, -5.8542, -5.8616, -5.7851, -5.8054, -5.8271, -6.5177, -6.4254, -6.883, -6.5073, -7.0434, -7.0902, -6.1517, -6.2254, -5.7345, -7.2989, -7.5353, -7.3547, -7.7713, -7.3118, -7.4284, -5.8681, -7.4414, -6.9436, -6.7812, -7.286, -6.5457, -8.0842, -7.7185, -8.2122, -8.2128, -7.2457, -6.7381, -6.9297, -6.6602, -7.3561, -5.7021, -5.6999, -5.6231, -5.5183, -6.6978, -5.8646, -5.0665, -5.713, -6.4748, -6.2919, -5.4358, -6.6632, -6.5738, -5.6621, -5.6104, -5.9888, -6.2278, -6.2394, -5.8598, -6.2988, -6.1566, -5.1711, -5.329, -5.4161, -5.8465, -5.7738, -5.8323, -5.0126, -5.5358, -5.8129, -5.6213, -5.9382, -5.9481, -6.008, -5.6832, -5.587, -5.967, -5.9281, -5.9615, -6.2979, -6.7089, -6.7502, -6.816, -6.9108, -6.9618, -7.0437, -6.9148, -7.1024, -7.1969, -7.3015, -7.302, -7.2669, -7.3389, -7.3778, -7.3781, -7.4183, -7.4186, -7.4608, -7.4612, -6.6898, -7.5051, -7.5508, -7.5517, -6.2256, -7.5993, -7.5997, -7.6, -7.6499, -7.65, -6.4474, -6.8889, -6.332, -6.5165, -6.9397, -6.5338, -6.8279, -6.9901, -6.3248, -6.8014, -6.5332, -7.1028, -6.0289, -6.5257, -6.8927, -5.6314, -6.165, -5.8833, -5.443, -4.9316, -6.1617, -6.0721, -5.2691, -4.4395, -5.647, -5.8666, -6.3307, -6.387, -6.2917, -6.1661, -6.6821, -5.5926, -5.6659, -6.0212, -5.6523, -6.2525, -5.7298, -5.7608, -5.8204, -5.8885, -5.5912, -5.81, -5.9049, -5.9373, -5.9937, -6.0892, -6.0769, -6.0281, -6.1652, -6.3178, -5.7528, -6.7254, -6.9434, -6.9042, -7.4055, -7.5116, -7.6223, -6.7302, -7.6259, -5.2073, -6.7382, -7.753, -6.6708, -6.7209, -6.5015, -5.9992, -8.0803, -6.788, -7.3172, -6.9486, -7.6958, -8.1037, -6.4055, -7.3393, -7.6175, -8.1304, -7.0897, -6.6768, -6.252, -5.797, -6.5776, -5.6732, -5.6369, -6.8515, -6.4, -5.2171, -6.4268, -6.2888, -5.4385, -6.1369, -5.8677, -5.745, -5.8057, -6.0921, -5.4287, -6.1744, -5.6994, -6.2037, -6.1201, -6.0869, -5.848, -6.0815, -5.6093, -5.7897, -5.6236, -5.9635, -5.8888, -6.0054, -5.8818, -5.8844, -5.999, -6.115, -6.0156, -6.0924, -6.4228, -6.7691, -6.5188, -7.0734, -7.1458, -6.7893, -7.2356, -6.2874, -6.0333, -6.7872, -6.7873, -7.7525, -6.8946, -7.9023, -6.8605, -6.6355, -7.91, -7.7786, -6.9742, -8.0769, -7.9242, -7.9268, -6.066, -7.3128, -6.5078, -6.6671, -7.2475, -7.9454, -5.0207, -7.4246, -6.2495, -6.5489, -6.2878, -6.1748, -5.2278, -6.4754, -6.1463, -5.863, -6.3887, -6.5368, -5.486, -4.471, -5.7246, -5.92, -5.1755, -4.7824, -5.9508, -6.1165, -5.4629, -5.7784, -5.9434, -4.5857, -5.978, -5.4471, -5.0995, -5.6331, -6.1414, -5.9078, -6.2366, -5.8709, -5.5878, -5.6728, -5.8945, -5.8873, -6.0312, -6.0239, -6.0335, -6.0218], \"loglift\": [30.0, 29.0, 28.0, 27.0, 26.0, 25.0, 24.0, 23.0, 22.0, 21.0, 20.0, 19.0, 18.0, 17.0, 16.0, 15.0, 14.0, 13.0, 12.0, 11.0, 10.0, 9.0, 8.0, 7.0, 6.0, 5.0, 4.0, 3.0, 2.0, 1.0, 1.4528, 1.4527, 1.4509, 1.4508, 1.4506, 1.4489, 1.4459, 1.4449, 1.4424, 1.441, 1.4393, 1.438, 1.4362, 1.4352, 1.435, 1.432, 1.4315, 1.4296, 1.4293, 1.4272, 1.4271, 1.4262, 1.4242, 1.4241, 1.4241, 1.4241, 1.4233, 1.4232, 1.4224, 1.4224, 1.4195, 1.3947, 1.3918, 1.3851, 1.3926, 1.4044, 1.3365, 1.3749, 1.3928, 1.3728, 1.4015, 1.3156, 1.3891, 1.2008, 1.2545, 1.2488, 1.2655, 1.2745, 1.3429, 1.3087, 1.2794, 1.3084, 1.0777, 1.2359, 1.159, 1.2148, 1.0989, 1.2602, 1.098, 1.2296, 0.945, 0.4892, 0.8213, 0.9363, 0.9637, 0.7377, 0.9051, 1.0594, 0.7645, 0.9218, 0.7718, 0.6362, 1.0062, 0.7944, 0.7768, 0.4924, 0.2164, 0.3134, 1.5678, 1.5651, 1.5593, 1.5542, 1.5532, 1.549, 1.5443, 1.5408, 1.5391, 1.5319, 1.5316, 1.5301, 1.5188, 1.5181, 1.5142, 1.5026, 1.5018, 1.5013, 1.4976, 1.4952, 1.4941, 1.4937, 1.4925, 1.4836, 1.483, 1.4826, 1.4812, 1.4801, 1.4773, 1.4769, 1.4711, 1.4594, 1.4501, 1.4462, 1.4643, 1.426, 1.3736, 1.405, 1.4487, 1.4359, 1.337, 1.4518, 1.4221, 1.281, 1.2571, 1.3039, 1.3509, 1.3533, 1.2389, 1.345, 1.2876, 0.917, 0.9649, 0.9733, 1.1338, 1.0998, 1.1159, 0.5355, 0.8439, 0.9894, 0.738, 1.0509, 1.0585, 1.1211, 0.7341, 0.6112, 0.9517, 0.6531, 0.4695, 1.129, 1.1237, 1.1232, 1.122, 1.1204, 1.1194, 1.1176, 1.1166, 1.1162, 1.1142, 1.1115, 1.111, 1.111, 1.1105, 1.1093, 1.1091, 1.1082, 1.1078, 1.1065, 1.1062, 1.105, 1.1049, 1.1037, 1.1029, 1.1019, 1.1018, 1.1014, 1.1011, 1.1001, 1.1, 1.0947, 1.0965, 1.084, 1.0876, 1.0936, 1.0853, 1.0904, 1.0931, 1.0514, 1.0756, 1.0566, 1.0887, 1.0192, 1.0486, 1.0716, 0.9579, 0.9987, 0.967, 0.9063, 0.8283, 0.9727, 0.957, 0.7702, 0.6044, 0.8343, 0.8686, 0.9679, 0.9562, 0.9248, 0.8572, 1.0392, 0.5691, 0.5219, 0.7118, 0.4882, 0.8189, 0.358, 0.273, 0.3309, 0.389, -0.0431, 0.2118, 0.2878, 0.1509, 0.1298, 0.379, 0.2824, -0.0881, 0.4226, 2.0626, 2.0536, 2.0437, 2.0367, 2.0177, 2.0088, 1.9976, 1.9921, 1.9901, 1.9885, 1.9878, 1.9821, 1.9788, 1.9623, 1.9555, 1.941, 1.9394, 1.9376, 1.9284, 1.9246, 1.916, 1.916, 1.9135, 1.9023, 1.9011, 1.8848, 1.8845, 1.8842, 1.8687, 1.8667, 1.848, 1.8569, 1.8264, 1.8243, 1.863, 1.8264, 1.7205, 1.8228, 1.7583, 1.4883, 1.6357, 1.5451, 1.4946, 1.4902, 1.5896, 1.0163, 1.502, 1.0907, 1.4824, 1.3887, 1.3326, 1.007, 1.2332, 0.575, 0.798, 0.4157, 1.0046, 0.6911, 0.6973, 0.2799, 0.1239, 0.4691, 1.0167, 0.1722, 0.2566, 2.0633, 2.0531, 2.0414, 2.0356, 2.0321, 2.0319, 2.0157, 2.0023, 1.9982, 1.9858, 1.9856, 1.983, 1.9756, 1.966, 1.9612, 1.9591, 1.9579, 1.9568, 1.9502, 1.9447, 1.9432, 1.9413, 1.9397, 1.9388, 1.9346, 1.9268, 1.9262, 1.9205, 1.9001, 1.8992, 1.8979, 1.897, 1.8848, 1.8749, 1.8279, 1.8711, 1.8364, 1.8132, 1.8393, 1.8411, 1.6709, 1.4691, 1.6274, 1.6457, 1.4057, 1.2515, 1.6427, 1.6938, 1.4195, 1.5376, 1.6027, 0.9624, 1.5828, 1.2556, 1.024, 1.3141, 1.6358, 1.425, 1.6995, 1.1383, 0.6104, 0.7445, 1.0993, 0.6926, 1.1654, 1.0661, 0.8446, -0.0]}, \"token.table\": {\"Topic\": [1, 2, 3, 4, 5, 2, 3, 2, 3, 5, 1, 2, 3, 4, 5, 1, 2, 3, 4, 5, 5, 4, 1, 2, 3, 4, 5, 2, 5, 2, 3, 4, 5, 5, 2, 3, 5, 1, 2, 3, 4, 5, 2, 3, 3, 4, 5, 1, 2, 3, 4, 5, 1, 3, 4, 5, 4, 1, 2, 3, 4, 5, 1, 2, 3, 4, 2, 3, 5, 2, 4, 5, 1, 2, 4, 5, 1, 3, 4, 5, 1, 2, 2, 5, 3, 1, 5, 3, 4, 2, 3, 1, 3, 4, 1, 2, 3, 4, 5, 2, 5, 3, 2, 5, 1, 1, 2, 3, 4, 5, 1, 2, 5, 1, 2, 3, 5, 4, 3, 2, 3, 5, 3, 3, 4, 1, 3, 4, 3, 4, 3, 2, 4, 3, 4, 3, 1, 2, 3, 5, 2, 3, 4, 5, 2, 3, 4, 5, 1, 3, 4, 5, 4, 1, 2, 3, 4, 1, 1, 1, 2, 3, 4, 3, 4, 5, 1, 3, 4, 1, 2, 3, 4, 1, 2, 3, 4, 1, 1, 2, 1, 2, 3, 4, 5, 2, 3, 4, 2, 4, 5, 2, 3, 5, 2, 3, 4, 5, 2, 5, 2, 3, 5, 2, 5, 1, 2, 3, 4, 5, 1, 5, 2, 3, 4, 5, 2, 3, 4, 5, 5, 2, 3, 4, 3, 5, 3, 2, 4, 1, 2, 3, 4, 5, 1, 2, 3, 4, 5, 5, 3, 4, 3, 2, 5, 2, 3, 4, 5, 1, 2, 4, 2, 4, 1, 2, 4, 5, 1, 3, 4, 1, 2, 3, 4, 5, 1, 3, 4, 1, 3, 1, 1, 2, 3, 5, 1, 2, 3, 4, 5, 3, 5, 2, 1, 2, 4, 1, 1, 2, 4, 1, 4, 5, 1, 3, 4, 1, 4, 2, 3, 4, 5, 1, 2, 3, 4, 1, 2, 5, 1, 2, 5, 1, 2, 5, 1, 4, 1, 2, 3, 4, 3, 1, 2, 3, 4, 5, 1, 2, 3, 4, 5, 1, 3, 2, 3, 4, 5, 1, 3, 1, 3, 1, 1, 1, 5, 3, 4, 5, 1, 1, 2, 3, 4, 5, 1, 2, 3, 4, 5, 1, 2, 3, 4, 5, 1, 2, 3, 4, 1, 2, 4, 5, 2, 3, 4, 5, 2, 4, 2, 3, 4, 5, 2, 3, 4, 5, 2, 3, 4, 5, 2, 3, 4, 5, 2, 2, 4, 1, 2, 3, 4, 5, 1, 2, 3, 4, 5, 1, 3, 4, 5, 3, 2, 3, 4, 5, 3, 1, 3, 4, 5, 1, 2, 3, 4, 5, 2, 3, 4, 5, 2, 3, 5, 1, 2, 3, 1, 3, 4, 1, 3, 4, 5, 1, 2, 3, 4, 5, 1, 2, 3, 4, 5, 1, 2, 3, 4, 5, 1, 1, 2, 3, 4, 5, 1, 3, 4, 5, 1, 2, 3, 4, 5, 1, 2, 3, 4, 5, 1, 2, 3, 5, 2, 3, 2, 3, 5, 1, 2, 4, 1, 2, 3, 4, 5, 2, 4, 2, 3, 2, 4, 3, 4, 3, 4, 5, 2, 4, 5, 1, 2, 3, 4, 1, 2, 3, 4, 2, 3, 4, 1, 2, 3, 4, 5, 2, 3, 5, 1, 2, 3, 4, 5, 2, 4, 2, 1, 3, 4, 5, 3, 1, 3, 2, 4, 1, 2, 3, 4, 5, 1, 3, 1, 4, 2, 4, 1, 2, 3, 4, 5, 2, 3, 4, 5, 2, 3, 4, 5, 1, 2, 3, 4, 5, 3, 1, 1, 3, 4, 1, 2, 3, 4, 5, 2, 5, 2, 5, 1, 2, 3, 4, 5, 1, 2, 3, 4, 1, 1, 2, 3, 4, 5, 1, 2, 4, 5, 3, 2, 3, 4, 5, 2, 3, 4, 5, 1, 2, 4, 5, 3, 3, 1, 2, 3, 4, 5, 3, 4, 2, 3, 4, 5, 5, 2, 5, 1, 2, 3, 4, 5, 1, 2, 4, 5, 4, 2, 3, 4, 5, 1, 2, 4, 5, 4, 1, 2, 3, 4, 5, 2, 3, 4, 2, 3, 4, 5, 4, 5, 3, 5, 1, 2, 3, 1, 2, 3, 4, 5, 3, 1, 4, 4, 5, 3, 4, 1, 2, 5, 5, 3, 3, 1, 2, 3, 4, 5, 1, 3, 4, 5, 2, 3, 4, 5, 1, 2, 3, 4, 5, 3, 1, 3, 5, 1, 2, 3, 4, 5, 2, 3, 4, 5, 1, 3, 4, 1, 2, 1, 2, 3, 4, 5, 1, 2, 3, 4, 5, 2, 3, 4, 5, 1, 2, 4, 5, 5, 1, 2, 3, 4, 5, 2, 3, 4, 5, 1, 2, 3, 4, 5, 2, 3, 5, 1, 3, 2, 1, 2, 3, 4, 5, 1, 3, 4, 5, 3, 3, 4, 3, 4, 5, 1, 3, 1, 1, 2, 3, 4, 5, 2, 3, 4, 5, 2, 3, 5, 2, 4, 1, 2, 3, 4, 5, 1, 2, 3, 4, 5, 1, 1, 3, 5, 1, 3, 4, 5, 1, 1, 2, 3, 4, 5, 2, 2, 4, 5, 3, 4, 5, 2, 4, 4, 5, 1, 2, 3, 4, 5, 1, 3, 4, 5, 2, 5, 3, 5, 1, 3, 3, 2, 3, 4, 5, 4, 2, 4, 5, 2, 3, 4, 5, 1, 2, 3, 4, 5, 1, 2, 3, 4, 5, 2, 4, 1, 2, 3, 5, 2, 3, 5, 5, 1, 1, 2, 3, 4, 5, 1, 3, 1, 2, 4, 5, 1, 2, 3, 4, 5, 1, 2, 3, 4, 5, 1, 3, 4, 2, 3, 5, 1, 1, 3, 4, 1, 2, 3, 4, 5, 1, 2, 3, 4, 5, 3, 3, 1, 1, 3, 4, 2, 5, 1, 2, 3, 4, 5], \"Freq\": [0.0035342648409990803, 0.5124684019448666, 0.37109780830490346, 0.021205589045994483, 0.09542515070697517, 0.784595761044534, 0.20399489787157882, 0.7166073431137231, 0.19263638255745244, 0.09246546362757717, 0.008701855812032751, 0.5830243394061944, 0.21754639530081876, 0.0522111348721965, 0.14793154880455675, 0.017484361995350983, 0.1748436199535098, 0.3933981448953971, 0.04371090498837745, 0.36717160190237064, 0.9291947100637628, 0.9794431946877917, 0.01564117979804604, 0.21897651717264455, 0.08602648888925321, 0.17987356767752946, 0.5083383434364963, 0.07733018504188213, 0.8506320354607034, 0.2815635142810841, 0.3120028131222824, 0.3348322872531811, 0.06848842239269613, 0.929295357589952, 0.15413367860908464, 0.23120051791362695, 0.60112134657543, 0.010035385077029793, 0.37130924785010233, 0.20070770154059586, 0.34120309261901294, 0.07024769553920855, 0.9527734771383528, 0.03528790656067973, 0.9730777290328777, 0.08359070234674017, 0.8359070234674018, 0.03804072771664042, 0.15216291086656167, 0.5668068429779423, 0.16357512918155379, 0.08368960097660892, 0.9700272268753699, 0.39794310887646683, 0.5536599775672582, 0.034603748597953635, 0.896730543960812, 0.06005597255439064, 0.6305877118211017, 0.18016791766317192, 0.06005597255439064, 0.06005597255439064, 0.20872012378176505, 0.05218003094544126, 0.13914674918784337, 0.6087670276968147, 0.9329649517552194, 0.08985457536997152, 0.8086911783297437, 0.13525529165506597, 0.03381382291376649, 0.8115317499303958, 0.10859057916849099, 0.626484110587448, 0.10859057916849099, 0.15870930801548683, 0.6618248394745202, 0.29055724659856985, 0.024213103883214154, 0.0322841385109522, 0.9715235662110063, 0.9555709325556471, 0.8800958080146268, 0.05500598800091418, 0.9870672228767966, 0.9454452881525879, 0.027807214357429055, 0.9530041846640821, 0.030254101100447052, 0.8560834531293233, 0.12750179089160135, 0.8403097983337431, 0.10892904793215188, 0.031122585123471967, 0.1329286540873885, 0.03467704019671004, 0.34099089526764875, 0.24851878807642197, 0.24851878807642197, 0.9662989235876291, 0.025428919041779716, 0.9618179614138386, 0.06389411257512706, 0.9264646323393423, 0.9735003530276848, 0.1098776430133393, 0.5398336374133627, 0.128986798320007, 0.14809595362667471, 0.07165933240000388, 0.04333522694388199, 0.04333522694388199, 0.8667045388776398, 0.6006410998060879, 0.09193486221521753, 0.30032054990304397, 0.006128990814347836, 0.9558216473080514, 0.9715751806410011, 0.1214947257914038, 0.2733631330306585, 0.607473628957019, 0.9791233846928179, 0.16265419193622646, 0.8132709596811323, 0.09789597887384881, 0.048947989436924404, 0.8321158204277149, 0.1846307255911839, 0.7754490474829724, 0.9770008441533783, 0.1116728810665357, 0.8561587548434404, 0.9557279880019961, 0.02896145418187867, 0.9699530870797978, 0.06424803731573574, 0.0871937649284985, 0.7939221754015916, 0.05506974627063063, 0.09401443040415414, 0.04700721520207707, 0.0705108228031156, 0.7756190508342716, 0.10467924917312695, 0.03489308305770898, 0.06978616611541796, 0.7676478272695977, 0.15436913612108938, 0.1234953088968715, 0.07203893018984171, 0.6586416474499813, 0.8853360385895106, 0.9182561730187141, 0.04832927226414285, 0.024164636132071426, 0.898696337922497, 0.9636119521118183, 0.9666732823702404, 0.05024372377820743, 0.7871516725252499, 0.13398326340855315, 0.03349581585213829, 0.9699754915419422, 0.04186728931579995, 0.9629476542633989, 0.9673429775983486, 0.16532857995940303, 0.8266428997970151, 0.18181855497152996, 0.024793439314299538, 0.09917375725719815, 0.6942163008003871, 0.09771760160699507, 0.09771760160699507, 0.04885880080349753, 0.7817408128559605, 0.9672861933612688, 0.9250739647050282, 0.03426199869277882, 0.5857893206934459, 0.053742139513160175, 0.29558176732238095, 0.04836792556184416, 0.01612264185394805, 0.0540255139960711, 0.7563571959449953, 0.18908929898624882, 0.06026473706257851, 0.06026473706257851, 0.8437063188760991, 0.026667849927939816, 0.9467086724418635, 0.026667849927939816, 0.5485882895866894, 0.20211147511088554, 0.15158360633316417, 0.09383747058719687, 0.9327568512900272, 0.07462054810320216, 0.9515599835902228, 0.9889064839202655, 0.928473564792341, 0.9268108550604952, 0.9493243837830874, 0.07762613232457265, 0.638259310224264, 0.025875377441524215, 0.04312562906920702, 0.2156281453460351, 0.9535309292383156, 0.018696684887025798, 0.1568639720565048, 0.26546210655716196, 0.012066459388961908, 0.5671235912812096, 0.2456422548185366, 0.7274789854241276, 0.009447779031482176, 0.018895558062964352, 0.9720099865486677, 0.12666161907677348, 0.06333080953838674, 0.8233005239990275, 0.961548818625515, 0.025987805908797703, 0.9662542120396856, 0.11983838598986168, 0.8388687019290318, 0.03809630653227349, 0.05714445979841024, 0.19048153266136747, 0.6285890577825126, 0.07619261306454699, 0.28444188141963495, 0.09922391212312848, 0.3968956484925139, 0.09591644838569087, 0.12237615828519179, 0.9318655713989207, 0.9496159032346989, 0.04828555440176435, 0.9715701540193235, 0.05436002124235917, 0.9241203611201059, 0.26138559716538956, 0.058811759362212654, 0.2483163173071201, 0.4312862353228928, 0.33454344218723164, 0.18734432762484973, 0.4683608190621243, 0.1135320812882649, 0.8514906096619869, 0.010050193841931452, 0.8090406042754819, 0.05527606613062298, 0.12562742302414315, 0.8735860752508349, 0.10418916493817297, 0.016029102298180456, 0.7969226538374552, 0.016836394095157504, 0.14030328412631252, 0.016836394095157504, 0.028060656825262504, 0.8135634681914453, 0.12845738971443874, 0.05709217320641721, 0.9088601157871673, 0.058636136502397886, 0.9862450326969325, 0.031085614203952394, 0.07253309980922225, 0.870397197710667, 0.02072374280263493, 0.011825717828918648, 0.3429458170386408, 0.08278002480243055, 0.5439830201302579, 0.023651435657837297, 0.9640870350822465, 0.02472018038672427, 0.9676132581134465, 0.06138680909446357, 0.15346702273615892, 0.7673351136807947, 0.9827495596585365, 0.10410989890991261, 0.8707373363374509, 0.01892907252907502, 0.07469762607628502, 0.07469762607628502, 0.8216738868391352, 0.8534756753893016, 0.12192509648418595, 0.020320849414030992, 0.01970352071396224, 0.9654725149841497, 0.3284858119223441, 0.22194987292050278, 0.07102395933456089, 0.38175378142326477, 0.0641511425950398, 0.0106918570991733, 0.0213837141983466, 0.8981159963305572, 0.964874284686427, 0.05709029885305441, 0.9134447816488706, 0.9735530159748326, 0.23252448451473628, 0.7626803092083351, 0.9457284144805714, 0.9211384381396416, 0.06140922920930944, 0.9807122292794965, 0.9457931726056654, 0.07646695338815285, 0.10923850484021837, 0.8083649358176159, 0.010923850484021837, 0.9682068903592465, 0.020201386329675306, 0.22221524962642836, 0.2676683688681978, 0.3434235676044802, 0.15151039747256478, 0.4797117251175141, 0.08158362672066566, 0.21864411961138397, 0.14032383795954495, 0.08158362672066566, 0.6901508838471432, 0.31124451624479005, 0.20504940033257144, 0.3661596434510204, 0.08787831442824491, 0.340528468409449, 0.933113305044093, 0.062207553669606196, 0.9646827249142206, 0.031118797577878082, 0.97151951338753, 0.9785864560032994, 0.9673118811500615, 0.9288830198121014, 0.27694430323886343, 0.059345207836899304, 0.6725790221515254, 0.967310514662755, 0.21104699622650946, 0.2936306034455784, 0.2569267780148811, 0.16057923625930068, 0.07799562904023176, 0.3128331251506029, 0.08938089290017226, 0.5213885419176715, 0.04469044645008613, 0.0335178348375646, 0.37587265937241704, 0.06834048352225765, 0.4741121044356624, 0.06834048352225765, 0.017085120880564412, 0.8433965499384948, 0.04362395947957732, 0.014541319826525774, 0.08724791895915464, 0.012508935716405486, 0.2626876500445152, 0.08756255001483841, 0.6254467858202744, 0.05542121150961864, 0.08313181726442796, 0.02771060575480932, 0.8313181726442795, 0.9175761566094914, 0.07646467971745761, 0.8769022751296132, 0.061898984126796223, 0.030949492063398112, 0.020632994708932074, 0.12015027662293438, 0.030037569155733596, 0.06007513831146719, 0.7809767980490735, 0.08524671344989525, 0.08524671344989525, 0.028415571149965083, 0.7956359921990224, 0.12532559426600234, 0.02506511885320047, 0.7268884467428136, 0.12532559426600234, 0.9124281865520292, 0.9006358792457595, 0.07205087033966076, 0.07479259362041488, 0.7396156480241027, 0.13296461088073758, 0.016620576360092197, 0.033241152720184394, 0.12251457564025982, 0.011668054822881887, 0.8342659198360549, 0.023336109645763773, 0.005834027411440943, 0.015925908725046456, 0.2707404483257897, 0.07962954362523227, 0.6370363490018581, 0.964152808547451, 0.0075733547114400284, 0.8406423729698432, 0.0530134829800802, 0.09845361124872037, 0.984075155057175, 0.784359332840566, 0.15466240365870315, 0.011047314547050225, 0.0441892581882009, 0.5901377408928049, 0.010444915768014245, 0.28723518362039174, 0.06266949460808548, 0.047002120956064104, 0.14632255639855932, 0.3365418797166864, 0.4974966917551017, 0.014632255639855932, 0.9268720268939411, 0.9738167686217336, 0.019476335372434674, 0.03618913688755976, 0.05428370533133964, 0.904728422188994, 0.016337913997711225, 0.9475990118672512, 0.016337913997711225, 0.4962933838068827, 0.44114967449500686, 0.049016630499445206, 0.01838123643729195, 0.6231736846882027, 0.008199653745897404, 0.2049913436474351, 0.10659549869666625, 0.057397576221281825, 0.08435262992491932, 0.4097127739210367, 0.036151127110679714, 0.42176314962459666, 0.048201502814239613, 0.5076450818101634, 0.04333555576428224, 0.2662041282663052, 0.14857904833468197, 0.03714476208367049, 0.9636134092945482, 0.6729679467566949, 0.008412099334458687, 0.20189038402700848, 0.05047259600675212, 0.0672967946756695, 0.8043651304768966, 0.1787478067726437, 0.00595826022575479, 0.01191652045150958, 0.015573759444403208, 0.4672127833320962, 0.1868851133328385, 0.03893439861100802, 0.28811454972145933, 0.6853187579955456, 0.12320337222391833, 0.10780295069592853, 0.04620126458396937, 0.03850105381997448, 0.9216641317145449, 0.02333326915733025, 0.0466665383146605, 0.011666634578665125, 0.9463350098252625, 0.0378534003930105, 0.8933280768254322, 0.05955520512169549, 0.029777602560847743, 0.031600305801417046, 0.9164088682410942, 0.031600305801417046, 0.4310720089721978, 0.021200262736337596, 0.45933902595398124, 0.08126767382262745, 0.003533377122722933, 0.8573270627683461, 0.14288784379472436, 0.8915990672468908, 0.04953328151371615, 0.9711094662229768, 0.961281169900986, 0.9475691736022067, 0.044072984818707285, 0.04503901371140841, 0.9007802742281681, 0.04503901371140841, 0.8314944485995296, 0.059392460614252116, 0.09898743435708686, 0.030186579178318036, 0.08049754447551476, 0.845224216992905, 0.030186579178318036, 0.04992157113354106, 0.07131653019077294, 0.5134790173735652, 0.3708459569920193, 0.041260321904060496, 0.12378096571218149, 0.7839461161771494, 0.17054687754266526, 0.15504261594787752, 0.46512784784363254, 0.19638731353397818, 0.010336174396525167, 0.5271464234042359, 0.4298270836988385, 0.03243977990179913, 0.007752355833222586, 0.6124361108245843, 0.16279947249767432, 0.031009423332890345, 0.18605653999734206, 0.9206371529561375, 0.07464625564509222, 0.9552194880623708, 0.031245494269590994, 0.9061193338181388, 0.015622747134795497, 0.031245494269590994, 0.9855694515768124, 0.9229998960905674, 0.07178888080704413, 0.13493197518737673, 0.8545691761867193, 0.11454560135227117, 0.12981834819924065, 0.7330918486545355, 0.010181831231312994, 0.012727289039141242, 0.759747269252892, 0.23701517374128683, 0.20119842754167966, 0.7880271745382453, 0.04914357541948218, 0.8845843575506792, 0.02317666583926997, 0.42645065144256744, 0.42645065144256744, 0.11124799602849586, 0.013905999503561983, 0.14878301423524418, 0.8307051628134466, 0.01239858451960368, 0.01239858451960368, 0.019136457946611916, 0.21050103741273107, 0.1339552056262834, 0.6315031122381932, 0.4904856221165323, 0.007847769953864516, 0.42770346248561614, 0.051010504700119357, 0.02354330986159355, 0.9663057504606781, 0.953862552612722, 0.14491190687719271, 0.8332434645438581, 0.01811398835964909, 0.07700408974214204, 0.3368928926218714, 0.1251316458309808, 0.1058806233954453, 0.3561439150574069, 0.07402736655385132, 0.9130041874974996, 0.1759167541658153, 0.8041908761865842, 0.2409477770467997, 0.14682755163789357, 0.44424746393003695, 0.1242386975397561, 0.041412899179918694, 0.8980564858907928, 0.01870951012272485, 0.01870951012272485, 0.0374190202454497, 0.9892182418587573, 0.5679563921803648, 0.08414168773042441, 0.16828337546084882, 0.07362397676412136, 0.10517710966303051, 0.023526110547062995, 0.8469399796942678, 0.05881527636765749, 0.05881527636765749, 0.9910664355618182, 0.9124146689882825, 0.9302865219297194, 0.021142875498402713, 0.021142875498402713, 0.05928956814782652, 0.8419118676991366, 0.04743165451826122, 0.04743165451826122, 0.14621412750335683, 0.026584386818792147, 0.5848565100134273, 0.23925948136912933, 0.9641653665390169, 0.9730728856465553, 0.0134639613183138, 0.067319806591569, 0.6900280175635823, 0.1884954584563932, 0.03702589362536295, 0.08277757348661761, 0.8277757348661761, 0.2726587406021191, 0.23857639802685418, 0.34082342575264885, 0.15337054158869198, 0.8136632596027094, 0.8878548264764072, 0.05222675449861219, 0.047151704740253146, 0.7544272758440503, 0.011787926185063287, 0.10609133566556958, 0.082515483295443, 0.015912370641915675, 0.7956185320957837, 0.0636494825676627, 0.1272989651353254, 0.8652659625199476, 0.5383777062110537, 0.21708778476252166, 0.0911768696002591, 0.15196144933376515, 0.010460296882017439, 0.8891252349714823, 0.010460296882017439, 0.08368237505613951, 0.899416977237777, 0.008854591673448497, 0.5932576421210494, 0.07969132506103647, 0.15938265012207295, 0.15938265012207295, 0.8639057222027768, 0.0886057150977207, 0.04430285754886035, 0.3286764493976233, 0.41333553484852625, 0.14939838608982878, 0.10955881646587443, 0.05179902752991298, 0.8805834680085207, 0.9459929587657173, 0.04614599798857158, 0.11248769967926639, 0.8717796725143145, 0.9819128675756008, 0.05486354552553298, 0.7406578645946952, 0.10972709105106596, 0.05486354552553298, 0.04114765914414973, 0.9902533534287871, 0.060119945797775826, 0.9017991869666374, 0.10877520505709362, 0.870201640456749, 0.10742220559687042, 0.8593776447749634, 0.05487497704741409, 0.9054371212823326, 0.027437488523707046, 0.979367652946681, 0.9867890167564686, 0.9641848068416478, 0.0388391870423508, 0.7088151635229022, 0.05825878056352621, 0.1553567481694032, 0.048548983802938504, 0.15488227336468038, 0.13939404602821234, 0.06195290934587216, 0.6350173207951896, 0.9483276557041748, 0.03469491423307956, 0.05179804583127157, 0.8805667791316167, 0.49631652871935517, 0.018728925612051136, 0.28093388418076704, 0.10300909086628125, 0.09832685946326847, 0.9618152865536397, 0.8218377217140448, 0.16436754434280895, 0.009668679078988763, 0.37320172419620234, 0.017416080462489443, 0.5859267069880377, 0.0037320172419620236, 0.019904091957130794, 0.8659792137868293, 0.05093995375216643, 0.008489992292027739, 0.07640993062824965, 0.9235707754728867, 0.026387736442082477, 0.05277547288416495, 0.05483220545047669, 0.9321474926581037, 0.17474099523299497, 0.040772898887698826, 0.4892747866523859, 0.2737608925316921, 0.017474099523299494, 0.011178414376486326, 0.10060572938837693, 0.2571035306591855, 0.54774230444783, 0.0894273150118906, 0.05840977193948164, 0.3337701253684665, 0.14185230328159826, 0.45893392238164143, 0.1349764994093534, 0.2699529988187068, 0.0736235451323746, 0.5153648159266221, 0.9027195155427006, 0.009824191652680577, 0.42735233689160507, 0.2161322163589727, 0.08841772487412519, 0.2603410787960353, 0.41761890807043145, 0.11778994843012168, 0.06424906278006637, 0.3962025538104093, 0.01625362239825228, 0.048760867194756835, 0.07314130079213525, 0.0406340559956307, 0.8208079311117401, 0.8852935947349828, 0.026827078628332814, 0.10730831451333125, 0.9433915034313538, 0.049652184391123885, 0.9728935132112091, 0.34535713520245925, 0.4730919660307661, 0.10881115218707621, 0.05204011626338427, 0.014192758980922983, 0.7838269279627935, 0.16217108854402626, 0.040542772136006565, 0.013514257378668855, 0.9834906253879758, 0.9642240689991615, 0.024410735924029404, 0.9661384095953534, 0.023564351453545206, 0.023564351453545206, 0.07688368242452451, 0.90979024202354, 0.9636114995952516, 0.008238496669676664, 0.34807648429383903, 0.3068840009454557, 0.014417369171934162, 0.3213013701173899, 0.12191863489722696, 0.2926047237533447, 0.04876745395889078, 0.5333940276753679, 0.05189542921487093, 0.19028324045452677, 0.7611329618181071, 0.049138422795218566, 0.8844916103139342, 0.11160285355390585, 0.013950356694238232, 0.05580142677695293, 0.7672696181831027, 0.05580142677695293, 0.014498135375445453, 0.11598508300356362, 0.10148694762811816, 0.768401174898609, 0.014498135375445453, 0.9636307676968363, 0.8797293083496187, 0.09163846961975194, 0.01832769392395039, 0.7736358830341787, 0.07627396029914439, 0.021792560085469825, 0.14165164055555385, 0.9636158843839894, 0.02102863268285222, 0.7780594092655322, 0.08411453073140888, 0.05607635382093925, 0.06308589804855666, 0.9898668422100153, 0.3934965623413288, 0.10416085473741056, 0.5034441312308177, 0.08996149283694393, 0.7796662712535142, 0.14993582139490655, 0.43673029167626465, 0.5415455616785682, 0.9612679553793532, 0.9193054150886811, 0.8081720621791839, 0.014303930304056352, 0.10012751212839446, 0.05006375606419723, 0.028607860608112705, 0.06729378039059665, 0.11215630065099441, 0.1570188209113922, 0.6729378039059665, 0.12991877088346224, 0.8228188822619276, 0.11164762317537637, 0.8559651110112189, 0.9583503221324898, 0.034226797219017495, 0.9757545118362281, 0.026924671016248552, 0.10769868406499421, 0.8077401304874565, 0.053849342032497104, 0.9803513943478124, 0.04702882025247416, 0.893547584797009, 0.04702882025247416, 0.11046985259596995, 0.42179398263915796, 0.03682328419865665, 0.4284891252207319, 0.024527681120644067, 0.08175893706881356, 0.3433875356890169, 0.5477848783610508, 0.772595384632069, 0.24857101529640102, 0.37482930878028725, 0.0789114334274289, 0.07102029008468601, 0.22489758526817236, 0.8829547835330701, 0.08026861668482456, 0.8251168239257766, 0.02357476639787933, 0.14144859838727597, 0.011787383198939665, 0.0961944317851602, 0.0480972158925801, 0.8657498860664418, 0.9423156841257144, 0.9666739327377706, 0.03375437225976541, 0.16202098684687397, 0.7628488130706982, 0.03375437225976541, 0.013501748903906163, 0.9232652116403779, 0.06839001567706503, 0.5776901524888852, 0.30113635608463163, 0.030728199600472614, 0.09218459880141784, 0.5202757033546538, 0.09459558242811886, 0.23648895607029716, 0.10551045732367104, 0.04729779121405943, 0.11521171784618997, 0.05236896265735908, 0.738402373468763, 0.0628427551888309, 0.03142137759441545, 0.7261851345512741, 0.24690294574743318, 0.021785554036538222, 0.08307089190468459, 0.8860895136499688, 0.027690297301561525, 0.9706054409706456, 0.9009669057319352, 0.07207735245855482, 0.018019338114638704, 0.28407116208488575, 0.2257003753551147, 0.16732958862534367, 0.21791760379114522, 0.10506741611358787, 0.10933656885426446, 0.17962436311772018, 0.5388730893531605, 0.14838534344507318, 0.02342926475448524, 0.9744586381020769, 0.9757574902516144, 0.9511281587155562, 0.015866157947773633, 0.9202371609708707, 0.06346463179109453, 0.9206462217865288, 0.061376414785768586, 0.0673538008111338, 0.20879678251451478, 0.6533318678679978, 0.06061842073002042, 0.01347076016222676], \"Term\": [\"000\", \"000\", \"000\", \"000\", \"000\", \"1959\", \"1959\", \"1960\", \"1960\", \"1960\", \"1961\", \"1961\", \"1961\", \"1961\", \"1961\", \"30\", \"30\", \"30\", \"30\", \"30\", \"62\", \"academic\", \"act\", \"act\", \"act\", \"act\", \"act\", \"adjustments\", \"adjustments\", \"administration\", \"administration\", \"administration\", \"administration\", \"adopting\", \"agreement\", \"agreement\", \"agreement\", \"aid\", \"aid\", \"aid\", \"aid\", \"aid\", \"aircraft\", \"aircraft\", \"alexander\", \"allocation\", \"allocation\", \"american\", \"american\", \"american\", \"american\", \"american\", \"anne\", \"anti\", \"anti\", \"anti\", \"appearances\", \"areas\", \"areas\", \"areas\", \"areas\", \"areas\", \"art\", \"art\", \"art\", \"art\", \"assessment\", \"assigned\", \"assigned\", \"authorized\", \"authorized\", \"authorized\", \"available\", \"available\", \"available\", \"available\", \"away\", \"away\", \"away\", \"away\", \"baby\", \"bankers\", \"banks\", \"banks\", \"baseball\", \"bed\", \"bed\", \"berlin\", \"berlin\", \"billion\", \"billion\", \"black\", \"black\", \"black\", \"board\", \"board\", \"board\", \"board\", \"board\", \"boats\", \"boats\", \"bombs\", \"bonds\", \"bonds\", \"bride\", \"business\", \"business\", \"business\", \"business\", \"business\", \"calendar\", \"calendar\", \"calendar\", \"came\", \"came\", \"came\", \"came\", \"campus\", \"captain\", \"cars\", \"cars\", \"cars\", \"castro\", \"catholic\", \"catholic\", \"cattle\", \"cattle\", \"cattle\", \"chamber\", \"chamber\", \"charter\", \"chemical\", \"chemical\", \"china\", \"china\", \"chinese\", \"city\", \"city\", \"city\", \"city\", \"claim\", \"claim\", \"claim\", \"claim\", \"claims\", \"claims\", \"claims\", \"claims\", \"class\", \"class\", \"class\", \"class\", \"classical\", \"clay\", \"clay\", \"clay\", \"clerical\", \"cloth\", \"clothes\", \"co\", \"co\", \"co\", \"co\", \"coach\", \"coal\", \"coal\", \"coat\", \"collective\", \"collective\", \"college\", \"college\", \"college\", \"college\", \"colleges\", \"colleges\", \"colleges\", \"colleges\", \"colored\", \"colors\", \"colors\", \"come\", \"come\", \"come\", \"come\", \"come\", \"committee\", \"committee\", \"committee\", \"commodities\", \"commodities\", \"commodities\", \"communist\", \"communist\", \"communist\", \"company\", \"company\", \"company\", \"company\", \"compared\", \"compared\", \"components\", \"congo\", \"connections\", \"conservation\", \"coordination\", \"cost\", \"cost\", \"cost\", \"cost\", \"cost\", \"couldn\", \"couldn\", \"countries\", \"countries\", \"countries\", \"countries\", \"county\", \"county\", \"county\", \"county\", \"cousin\", \"creative\", \"creative\", \"creative\", \"cuba\", \"cuba\", \"cuban\", \"curriculum\", \"curriculum\", \"daily\", \"daily\", \"daily\", \"daily\", \"daily\", \"day\", \"day\", \"day\", \"day\", \"day\", \"definition\", \"democratic\", \"democratic\", \"democrats\", \"denied\", \"denied\", \"department\", \"department\", \"department\", \"department\", \"design\", \"design\", \"design\", \"designer\", \"designer\", \"development\", \"development\", \"development\", \"development\", \"didn\", \"didn\", \"didn\", \"don\", \"don\", \"don\", \"don\", \"don\", \"door\", \"door\", \"door\", \"drill\", \"drill\", \"dry\", \"east\", \"east\", \"east\", \"east\", \"education\", \"education\", \"education\", \"education\", \"education\", \"eisenhower\", \"eisenhower\", \"electronic\", \"engineer\", \"engineer\", \"engineer\", \"entrance\", \"equipment\", \"equipment\", \"equipment\", \"exercise\", \"exercise\", \"exercise\", \"eyes\", \"eyes\", \"eyes\", \"faculty\", \"faculty\", \"federal\", \"federal\", \"federal\", \"federal\", \"feed\", \"feed\", \"feed\", \"feed\", \"fig\", \"filing\", \"filing\", \"fingers\", \"fiscal\", \"fiscal\", \"flowers\", \"forests\", \"forests\", \"frames\", \"fulfill\", \"game\", \"game\", \"game\", \"game\", \"gen\", \"general\", \"general\", \"general\", \"general\", \"general\", \"good\", \"good\", \"good\", \"good\", \"good\", \"got\", \"got\", \"government\", \"government\", \"government\", \"government\", \"guests\", \"guests\", \"hadn\", \"hadn\", \"hair\", \"ham\", \"handsome\", \"hated\", \"hearing\", \"hearing\", \"hearing\", \"hell\", \"high\", \"high\", \"high\", \"high\", \"high\", \"home\", \"home\", \"home\", \"home\", \"home\", \"house\", \"house\", \"house\", \"house\", \"house\", \"inch\", \"inch\", \"inch\", \"inch\", \"income\", \"income\", \"income\", \"income\", \"india\", \"india\", \"india\", \"india\", \"industrial\", \"industrial\", \"industry\", \"industry\", \"industry\", \"industry\", \"insurance\", \"insurance\", \"insurance\", \"insurance\", \"interference\", \"interference\", \"interference\", \"interference\", \"interior\", \"interior\", \"interior\", \"interior\", \"inventories\", \"investment\", \"investment\", \"island\", \"island\", \"island\", \"island\", \"island\", \"john\", \"john\", \"john\", \"john\", \"john\", \"junior\", \"junior\", \"junior\", \"junior\", \"katanga\", \"kennedy\", \"kennedy\", \"kennedy\", \"kennedy\", \"khrushchev\", \"knew\", \"knew\", \"knew\", \"knew\", \"know\", \"know\", \"know\", \"know\", \"know\", \"labor\", \"labor\", \"labor\", \"labor\", \"laboratory\", \"laos\", \"laos\", \"leaders\", \"leaders\", \"leaders\", \"league\", \"league\", \"league\", \"left\", \"left\", \"left\", \"left\", \"let\", \"let\", \"let\", \"let\", \"let\", \"level\", \"level\", \"level\", \"level\", \"level\", \"life\", \"life\", \"life\", \"life\", \"life\", \"liked\", \"little\", \"little\", \"little\", \"little\", \"little\", \"ll\", \"ll\", \"ll\", \"ll\", \"local\", \"local\", \"local\", \"local\", \"local\", \"look\", \"look\", \"look\", \"look\", \"look\", \"looked\", \"looked\", \"looked\", \"looked\", \"machine\", \"machine\", \"machinery\", \"machinery\", \"machinery\", \"machines\", \"machines\", \"machines\", \"man\", \"man\", \"man\", \"man\", \"man\", \"manufacturers\", \"manufacturers\", \"manufacturing\", \"manufacturing\", \"marketing\", \"mathematics\", \"mayor\", \"mayor\", \"meat\", \"meat\", \"meat\", \"medical\", \"medical\", \"medical\", \"meeting\", \"meeting\", \"meeting\", \"meeting\", \"members\", \"members\", \"members\", \"members\", \"membership\", \"membership\", \"membership\", \"men\", \"men\", \"men\", \"men\", \"men\", \"military\", \"military\", \"military\", \"million\", \"million\", \"million\", \"million\", \"million\", \"missile\", \"missile\", \"missiles\", \"monday\", \"monday\", \"monday\", \"monday\", \"moscow\", \"mother\", \"mother\", \"motors\", \"motors\", \"mr\", \"mr\", \"mr\", \"mr\", \"mr\", \"mrs\", \"mrs\", \"music\", \"music\", \"musical\", \"musical\", \"national\", \"national\", \"national\", \"national\", \"national\", \"nations\", \"nations\", \"nations\", \"nations\", \"officer\", \"officer\", \"officer\", \"officer\", \"old\", \"old\", \"old\", \"old\", \"old\", \"opposition\", \"pale\", \"party\", \"party\", \"party\", \"pay\", \"pay\", \"pay\", \"pay\", \"pay\", \"payment\", \"payment\", \"payments\", \"payments\", \"people\", \"people\", \"people\", \"people\", \"people\", \"pieces\", \"pieces\", \"pieces\", \"pieces\", \"pink\", \"place\", \"place\", \"place\", \"place\", \"place\", \"planning\", \"planning\", \"planning\", \"planning\", \"player\", \"polaris\", \"police\", \"police\", \"police\", \"political\", \"political\", \"political\", \"political\", \"pool\", \"pool\", \"pool\", \"pool\", \"pope\", \"premier\", \"president\", \"president\", \"president\", \"president\", \"president\", \"prestige\", \"prestige\", \"problem\", \"problem\", \"problem\", \"problem\", \"proceedings\", \"procurement\", \"procurement\", \"production\", \"production\", \"production\", \"production\", \"production\", \"products\", \"products\", \"products\", \"products\", \"professors\", \"program\", \"program\", \"program\", \"program\", \"property\", \"property\", \"property\", \"property\", \"prosperity\", \"provide\", \"provide\", \"provide\", \"provide\", \"provide\", \"providence\", \"providence\", \"providence\", \"public\", \"public\", \"public\", \"public\", \"puerto\", \"puerto\", \"race\", \"race\", \"radiation\", \"radiation\", \"railroad\", \"range\", \"range\", \"range\", \"range\", \"range\", \"rayburn\", \"recognition\", \"recognition\", \"recommendation\", \"recommendation\", \"recorded\", \"recorded\", \"recreation\", \"recreation\", \"recreation\", \"rehabilitation\", \"republican\", \"republicans\", \"research\", \"research\", \"research\", \"research\", \"research\", \"return\", \"return\", \"return\", \"return\", \"rhode\", \"rhode\", \"rico\", \"rico\", \"right\", \"right\", \"right\", \"right\", \"right\", \"robinson\", \"room\", \"room\", \"room\", \"said\", \"said\", \"said\", \"said\", \"said\", \"sales\", \"sales\", \"sales\", \"sales\", \"sat\", \"sat\", \"sat\", \"savings\", \"savings\", \"school\", \"school\", \"school\", \"school\", \"school\", \"schools\", \"schools\", \"schools\", \"schools\", \"schools\", \"secretary\", \"secretary\", \"secretary\", \"secretary\", \"section\", \"section\", \"section\", \"section\", \"sectors\", \"service\", \"service\", \"service\", \"service\", \"service\", \"services\", \"services\", \"services\", \"services\", \"shall\", \"shall\", \"shall\", \"shall\", \"shall\", \"shares\", \"shares\", \"shares\", \"shelter\", \"shelter\", \"shipments\", \"small\", \"small\", \"small\", \"small\", \"small\", \"son\", \"son\", \"son\", \"son\", \"southern\", \"soviet\", \"soviet\", \"speaker\", \"speaker\", \"speaker\", \"st\", \"st\", \"stared\", \"state\", \"state\", \"state\", \"state\", \"state\", \"states\", \"states\", \"states\", \"states\", \"stations\", \"stations\", \"stations\", \"stockholders\", \"stockholders\", \"student\", \"student\", \"student\", \"student\", \"student\", \"students\", \"students\", \"students\", \"students\", \"students\", \"studio\", \"sun\", \"sun\", \"sun\", \"sure\", \"sure\", \"sure\", \"sure\", \"sweet\", \"system\", \"system\", \"system\", \"system\", \"system\", \"systems\", \"tax\", \"tax\", \"tax\", \"teachers\", \"teachers\", \"teachers\", \"technical\", \"technical\", \"tends\", \"thereof\", \"thought\", \"thought\", \"thought\", \"thought\", \"thought\", \"title\", \"title\", \"title\", \"title\", \"tractor\", \"tractor\", \"treasury\", \"treasury\", \"trees\", \"trees\", \"troops\", \"trust\", \"trust\", \"trust\", \"trust\", \"trustees\", \"unions\", \"unions\", \"unions\", \"united\", \"united\", \"united\", \"united\", \"university\", \"university\", \"university\", \"university\", \"upstairs\", \"use\", \"use\", \"use\", \"use\", \"use\", \"utility\", \"utility\", \"ve\", \"ve\", \"ve\", \"ve\", \"vehicles\", \"vehicles\", \"vehicles\", \"vocational\", \"walls\", \"war\", \"war\", \"war\", \"war\", \"war\", \"wasn\", \"wasn\", \"water\", \"water\", \"water\", \"water\", \"way\", \"way\", \"way\", \"way\", \"way\", \"week\", \"week\", \"week\", \"week\", \"week\", \"went\", \"went\", \"went\", \"west\", \"west\", \"west\", \"windows\", \"woman\", \"woman\", \"woman\", \"work\", \"work\", \"work\", \"work\", \"work\", \"world\", \"world\", \"world\", \"world\", \"world\", \"yankees\", \"yards\", \"yellow\", \"yesterday\", \"yesterday\", \"yesterday\", \"yield\", \"yield\", \"york\", \"york\", \"york\", \"york\", \"york\"]}, \"R\": 30, \"lambda.step\": 0.01, \"plot.opts\": {\"xlab\": \"PC1\", \"ylab\": \"PC2\"}, \"topic.order\": [1, 2, 3, 4, 5]};\n",
              "\n",
              "function LDAvis_load_lib(url, callback){\n",
              "  var s = document.createElement('script');\n",
              "  s.src = url;\n",
              "  s.async = true;\n",
              "  s.onreadystatechange = s.onload = callback;\n",
              "  s.onerror = function(){console.warn(\"failed to load library \" + url);};\n",
              "  document.getElementsByTagName(\"head\")[0].appendChild(s);\n",
              "}\n",
              "\n",
              "if(typeof(LDAvis) !== \"undefined\"){\n",
              "   // already loaded: just create the visualization\n",
              "   !function(LDAvis){\n",
              "       new LDAvis(\"#\" + \"ldavis_el917651402046806196002765091845\", ldavis_el917651402046806196002765091845_data);\n",
              "   }(LDAvis);\n",
              "}else if(typeof define === \"function\" && define.amd){\n",
              "   // require.js is available: use it to load d3/LDAvis\n",
              "   require.config({paths: {d3: \"https://d3js.org/d3.v5\"}});\n",
              "   require([\"d3\"], function(d3){\n",
              "      window.d3 = d3;\n",
              "      LDAvis_load_lib(\"https://cdn.jsdelivr.net/gh/bmabey/pyLDAvis@3.4.0/pyLDAvis/js/ldavis.v3.0.0.js\", function(){\n",
              "        new LDAvis(\"#\" + \"ldavis_el917651402046806196002765091845\", ldavis_el917651402046806196002765091845_data);\n",
              "      });\n",
              "    });\n",
              "}else{\n",
              "    // require.js not available: dynamically load d3 & LDAvis\n",
              "    LDAvis_load_lib(\"https://d3js.org/d3.v5.js\", function(){\n",
              "         LDAvis_load_lib(\"https://cdn.jsdelivr.net/gh/bmabey/pyLDAvis@3.4.0/pyLDAvis/js/ldavis.v3.0.0.js\", function(){\n",
              "                 new LDAvis(\"#\" + \"ldavis_el917651402046806196002765091845\", ldavis_el917651402046806196002765091845_data);\n",
              "            })\n",
              "         });\n",
              "}\n",
              "</script>"
            ]
          },
          "metadata": {},
          "execution_count": 23
        }
      ],
      "source": [
        "pyLDAvis.display(lda_display)"
      ]
    }
  ],
  "metadata": {
    "kernelspec": {
      "display_name": "Python 3 (ipykernel)",
      "language": "python",
      "name": "python3"
    },
    "language_info": {
      "codemirror_mode": {
        "name": "ipython",
        "version": 3
      },
      "file_extension": ".py",
      "mimetype": "text/x-python",
      "name": "python",
      "nbconvert_exporter": "python",
      "pygments_lexer": "ipython3",
      "version": "3.11.3"
    },
    "colab": {
      "provenance": []
    }
  },
  "nbformat": 4,
  "nbformat_minor": 5
}